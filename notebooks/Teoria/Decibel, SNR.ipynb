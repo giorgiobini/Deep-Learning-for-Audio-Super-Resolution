{
 "cells": [
  {
   "cell_type": "code",
   "execution_count": 1,
   "metadata": {},
   "outputs": [
    {
     "name": "stderr",
     "output_type": "stream",
     "text": [
      "C:\\Users\\Giobi\\AppData\\Local\\Continuum\\anaconda3\\envs\\tesi\\lib\\site-packages\\numpy\\_distributor_init.py:32: UserWarning: loaded more than 1 DLL from .libs:\n",
      "C:\\Users\\Giobi\\AppData\\Local\\Continuum\\anaconda3\\envs\\tesi\\lib\\site-packages\\numpy\\.libs\\libopenblas.NOIJJG62EMASZI6NYURL6JBKM4EVBGM7.gfortran-win_amd64.dll\n",
      "C:\\Users\\Giobi\\AppData\\Local\\Continuum\\anaconda3\\envs\\tesi\\lib\\site-packages\\numpy\\.libs\\libopenblas.TXA6YQSD3GCQQC22GEQ54J2UDCXDXHWN.gfortran-win_amd64.dll\n",
      "  stacklevel=1)\n"
     ]
    }
   ],
   "source": [
    "import math\n",
    "import numpy as np"
   ]
  },
  {
   "cell_type": "markdown",
   "metadata": {},
   "source": [
    "# Decibel \n",
    "### Definizione\n",
    "Il decibel (dB) è una misura logaritmica che valuta il rapporto tra due grandezze omogenee (due potenze, due energie, etc..). La formula per l'espressione di un rapporto x in decibel è la seguente:\n",
    "$$\n",
    "x (dB) = 10 \\log_{10}(x)\n",
    "$$\n",
    "Dove $x$ è un rapporto tra due grandezze omogenee (che hanno la stessa unità di misura). Un esempio di $x$ è il Signal to Noise Ratio. La formula inversa è la seguente:\n",
    "$$\n",
    "x  = 10^{\\frac{x(dB)}{10}}\n",
    "$$\n",
    "In pratica il dB è comodo perchè anzichè dire che il numeratore è 1000 volte più grande del denominatore, diciamo che il loro rapporto è 30 dB."
   ]
  },
  {
   "cell_type": "code",
   "execution_count": 25,
   "metadata": {},
   "outputs": [
    {
     "name": "stdout",
     "output_type": "stream",
     "text": [
      "Se il rapporto tra il numeratore e il denominatore è 0.001, allora i decibel sono -30.0\n",
      "Se il rapporto tra il numeratore e il denominatore è 0.01, allora i decibel sono -20.0\n",
      "Se il rapporto tra il numeratore e il denominatore è 0.1, allora i decibel sono -10.0\n",
      "Se il rapporto tra il numeratore e il denominatore è 0.5, allora i decibel sono -3.01\n",
      "Se il rapporto tra il numeratore e il denominatore è 1, allora i decibel sono 0.0\n",
      "Se il rapporto tra il numeratore e il denominatore è 2, allora i decibel sono 3.01\n",
      "Se il rapporto tra il numeratore e il denominatore è 10, allora i decibel sono 10.0\n",
      "Se il rapporto tra il numeratore e il denominatore è 100, allora i decibel sono 20.0\n",
      "Se il rapporto tra il numeratore e il denominatore è 1000, allora i decibel sono 30.0\n"
     ]
    }
   ],
   "source": [
    "def calc_db(x):\n",
    "    return 10*math.log(x, 10)\n",
    "for x in [1/1000, 1/100, 1/10, 1/2, 1, 2, 10, 100, 1000]:\n",
    "    xdB = np.round(calc_db(x), 2)\n",
    "    print(\"Se il rapporto tra il numeratore e il denominatore è {}, allora i decibel sono {}\".format(x, xdB)   )"
   ]
  },
  {
   "cell_type": "markdown",
   "metadata": {},
   "source": [
    "### SNR Signal to Noise Ratio\n",
    "E' il rapporto tra due potenze: la potenza del segnale e la potenza del rumore.\n",
    "$$\n",
    "SNR = \\frac{P(segnale)}{P(rumore)}\n",
    "$$\n",
    "I CD hanno un SNR (teorico) di 90 dB, ecco perchè si sentono così bene."
   ]
  }
 ],
 "metadata": {
  "kernelspec": {
   "display_name": "Python 3",
   "language": "python",
   "name": "python3"
  },
  "language_info": {
   "codemirror_mode": {
    "name": "ipython",
    "version": 3
   },
   "file_extension": ".py",
   "mimetype": "text/x-python",
   "name": "python",
   "nbconvert_exporter": "python",
   "pygments_lexer": "ipython3",
   "version": "3.7.3"
  }
 },
 "nbformat": 4,
 "nbformat_minor": 2
}
