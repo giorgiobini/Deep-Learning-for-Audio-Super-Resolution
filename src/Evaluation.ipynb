{
 "cells": [
  {
   "cell_type": "markdown",
   "metadata": {
    "id": "cdpgjbcG_PBn"
   },
   "source": [
    "### Import dei pacchetti"
   ]
  },
  {
   "cell_type": "code",
   "execution_count": 1,
   "metadata": {
    "executionInfo": {
     "elapsed": 1756,
     "status": "ok",
     "timestamp": 1613823114033,
     "user": {
      "displayName": "Giorgio Bini",
      "photoUrl": "https://lh3.googleusercontent.com/a-/AOh14GgJ7Iaq18IIOku9A5VZf1pMFRhT9LBW90kGCpzqsg=s64",
      "userId": "09218258456109657564"
     },
     "user_tz": -60
    },
    "id": "AiLM6k4JgxHr"
   },
   "outputs": [],
   "source": [
    "gdrive = False"
   ]
  },
  {
   "cell_type": "code",
   "execution_count": 2,
   "metadata": {
    "colab": {
     "base_uri": "https://localhost:8080/"
    },
    "executionInfo": {
     "elapsed": 40240,
     "status": "ok",
     "timestamp": 1613823152528,
     "user": {
      "displayName": "Giorgio Bini",
      "photoUrl": "https://lh3.googleusercontent.com/a-/AOh14GgJ7Iaq18IIOku9A5VZf1pMFRhT9LBW90kGCpzqsg=s64",
      "userId": "09218258456109657564"
     },
     "user_tz": -60
    },
    "id": "K3_7A1oU_PBn",
    "outputId": "cd1ed09b-2045-4198-fb2f-4a5dea0dda49"
   },
   "outputs": [],
   "source": [
    "import sys\n",
    "import os\n",
    "if gdrive:\n",
    "    from google.colab import drive\n",
    "    drive.mount('/content/gdrive')\n",
    "    %tensorflow_version 1.x\n",
    "    sys.path.append('/content/gdrive/My Drive/Tesi/src/')\n",
    "    ROOT_DIR = \"/content/gdrive/My Drive/Tesi/\"\n",
    "    data_path = \"/content/gdrive/My Drive/Tesi/processedData/speaker1/train&validation/\"\n",
    "    !pip install deepspeech\n",
    "    !apt-get install sox libsox-dev libsox-fmt-all\n",
    "    !pip install jiwer\n",
    "else:\n",
    "    ROOT_DIR = os.path.dirname(os.path.abspath('.'))\n",
    "    data_path = ROOT_DIR + \"\\\\processedData\\\\speaker1\\\\train&validation\\\\\""
   ]
  },
  {
   "cell_type": "code",
   "execution_count": 4,
   "metadata": {
    "executionInfo": {
     "elapsed": 48681,
     "status": "ok",
     "timestamp": 1613823160972,
     "user": {
      "displayName": "Giorgio Bini",
      "photoUrl": "https://lh3.googleusercontent.com/a-/AOh14GgJ7Iaq18IIOku9A5VZf1pMFRhT9LBW90kGCpzqsg=s64",
      "userId": "09218258456109657564"
     },
     "user_tz": -60
    },
    "id": "XLc8-QuO_PBn"
   },
   "outputs": [
    {
     "ename": "ModuleNotFoundError",
     "evalue": "No module named 'deepspeech'",
     "output_type": "error",
     "traceback": [
      "\u001b[1;31m---------------------------------------------------------------------------\u001b[0m",
      "\u001b[1;31mModuleNotFoundError\u001b[0m                       Traceback (most recent call last)",
      "\u001b[1;32m<ipython-input-4-70c40917a15e>\u001b[0m in \u001b[0;36m<module>\u001b[1;34m\u001b[0m\n\u001b[0;32m     14\u001b[0m \u001b[1;32mimport\u001b[0m \u001b[0msoundfile\u001b[0m \u001b[1;32mas\u001b[0m \u001b[0msf\u001b[0m\u001b[1;33m\u001b[0m\u001b[1;33m\u001b[0m\u001b[0m\n\u001b[0;32m     15\u001b[0m \u001b[1;32mfrom\u001b[0m \u001b[0mtqdm\u001b[0m\u001b[1;33m.\u001b[0m\u001b[0mnotebook\u001b[0m \u001b[1;32mimport\u001b[0m \u001b[0mtqdm\u001b[0m\u001b[1;33m\u001b[0m\u001b[1;33m\u001b[0m\u001b[0m\n\u001b[1;32m---> 16\u001b[1;33m \u001b[1;32mfrom\u001b[0m \u001b[0mevaluation_ops\u001b[0m \u001b[1;32mimport\u001b[0m \u001b[1;33m*\u001b[0m\u001b[1;33m\u001b[0m\u001b[1;33m\u001b[0m\u001b[0m\n\u001b[0m\u001b[0;32m     17\u001b[0m \u001b[1;32mimport\u001b[0m \u001b[0mjiwer\u001b[0m\u001b[1;33m\u001b[0m\u001b[1;33m\u001b[0m\u001b[0m\n",
      "\u001b[1;32m~\\Tesi\\src\\evaluation_ops.py\u001b[0m in \u001b[0;36m<module>\u001b[1;34m\u001b[0m\n\u001b[0;32m     13\u001b[0m \u001b[1;32mfrom\u001b[0m \u001b[0mscipy\u001b[0m \u001b[1;32mimport\u001b[0m \u001b[0msignal\u001b[0m\u001b[1;33m\u001b[0m\u001b[1;33m\u001b[0m\u001b[0m\n\u001b[0;32m     14\u001b[0m \u001b[1;32mfrom\u001b[0m \u001b[0mdataset\u001b[0m \u001b[1;32mimport\u001b[0m \u001b[1;33m*\u001b[0m\u001b[1;33m\u001b[0m\u001b[1;33m\u001b[0m\u001b[0m\n\u001b[1;32m---> 15\u001b[1;33m \u001b[1;32mimport\u001b[0m \u001b[0mdeepspeech\u001b[0m\u001b[1;33m\u001b[0m\u001b[1;33m\u001b[0m\u001b[0m\n\u001b[0m\u001b[0;32m     16\u001b[0m \u001b[1;32mimport\u001b[0m \u001b[0mtime\u001b[0m\u001b[1;33m\u001b[0m\u001b[1;33m\u001b[0m\u001b[0m\n\u001b[0;32m     17\u001b[0m \u001b[1;32mimport\u001b[0m \u001b[0msubprocess\u001b[0m\u001b[1;33m\u001b[0m\u001b[1;33m\u001b[0m\u001b[0m\n",
      "\u001b[1;31mModuleNotFoundError\u001b[0m: No module named 'deepspeech'"
     ]
    }
   ],
   "source": [
    "import warnings\n",
    "warnings.filterwarnings('ignore')\n",
    "import numpy as np\n",
    "import tensorflow as tf\n",
    "import seaborn as sns\n",
    "from training_ops import *\n",
    "import matplotlib.pyplot as plt\n",
    "import IPython.display as ipd\n",
    "import scipy\n",
    "from dataset import DataSet\n",
    "import pandas as pd\n",
    "import librosa\n",
    "from params import *\n",
    "import soundfile as sf\n",
    "from tqdm.notebook import tqdm\n",
    "from evaluation_ops import *\n",
    "import jiwer"
   ]
  },
  {
   "cell_type": "markdown",
   "metadata": {
    "id": "jXMb3ELy_PBn"
   },
   "source": [
    "### Import del modello"
   ]
  },
  {
   "cell_type": "code",
   "execution_count": 5,
   "metadata": {
    "executionInfo": {
     "elapsed": 33389,
     "status": "ok",
     "timestamp": 1613823160973,
     "user": {
      "displayName": "Giorgio Bini",
      "photoUrl": "https://lh3.googleusercontent.com/a-/AOh14GgJ7Iaq18IIOku9A5VZf1pMFRhT9LBW90kGCpzqsg=s64",
      "userId": "09218258456109657564"
     },
     "user_tz": -60
    },
    "id": "cgFFNzhegxHt"
   },
   "outputs": [],
   "source": [
    "multispeaker = True\n",
    "data_path = read_datapath(multispeaker = multispeaker, gdrive = gdrive)\n",
    "architecture_params, opt_params = read_params('tfnet')\n",
    "#dir_name = 'gionet.lr0.000030dec.4.g3.b128'\n",
    "#architecture_params, opt_params = read_params_from_logdir(os.path.join(data_path, 'model_ckpt/{}'.format(dir_name))) #gionet.lr0.000030dec.4.g4.b128"
   ]
  },
  {
   "cell_type": "code",
   "execution_count": 6,
   "metadata": {
    "executionInfo": {
     "elapsed": 32703,
     "status": "ok",
     "timestamp": 1613823160974,
     "user": {
      "displayName": "Giorgio Bini",
      "photoUrl": "https://lh3.googleusercontent.com/a-/AOh14GgJ7Iaq18IIOku9A5VZf1pMFRhT9LBW90kGCpzqsg=s64",
      "userId": "09218258456109657564"
     },
     "user_tz": -60
    },
    "id": "hnRwN_HJ4ROS"
   },
   "outputs": [],
   "source": [
    "if multispeaker:\n",
    "    read_best_model = True\n",
    "else:\n",
    "    read_best_model = False"
   ]
  },
  {
   "cell_type": "code",
   "execution_count": 7,
   "metadata": {
    "colab": {
     "base_uri": "https://localhost:8080/"
    },
    "executionInfo": {
     "elapsed": 39874,
     "status": "ok",
     "timestamp": 1613823170174,
     "user": {
      "displayName": "Giorgio Bini",
      "photoUrl": "https://lh3.googleusercontent.com/a-/AOh14GgJ7Iaq18IIOku9A5VZf1pMFRhT9LBW90kGCpzqsg=s64",
      "userId": "09218258456109657564"
     },
     "user_tz": -60
    },
    "id": "M4VOKV_v_PBn",
    "outputId": "130c07c7-376b-4324-f1aa-4a8e2d83316e"
   },
   "outputs": [
    {
     "name": "stdout",
     "output_type": "stream",
     "text": [
      "Model loading...\n"
     ]
    },
    {
     "ename": "ValueError",
     "evalue": "Value for attr 'T' of complex64 is not in the list of allowed values: float, double\n\t; NodeDef: {{node gradients/fusion/spectral_transform/Abs_grad/div_no_nan}}; Op<name=DivNoNan; signature=x:T, y:T -> z:T; attr=T:type,allowed=[DT_FLOAT, DT_DOUBLE]>",
     "output_type": "error",
     "traceback": [
      "\u001b[1;31m---------------------------------------------------------------------------\u001b[0m",
      "\u001b[1;31mInvalidArgumentError\u001b[0m                      Traceback (most recent call last)",
      "\u001b[1;32m~\\AppData\\Local\\Continuum\\anaconda3\\envs\\tesi\\lib\\site-packages\\tensorflow\\python\\framework\\importer.py\u001b[0m in \u001b[0;36mimport_graph_def\u001b[1;34m(graph_def, input_map, return_elements, name, op_dict, producer_op_list)\u001b[0m\n\u001b[0;32m    425\u001b[0m         results = c_api.TF_GraphImportGraphDefWithResults(\n\u001b[1;32m--> 426\u001b[1;33m             graph._c_graph, serialized, options)  # pylint: disable=protected-access\n\u001b[0m\u001b[0;32m    427\u001b[0m         \u001b[0mresults\u001b[0m \u001b[1;33m=\u001b[0m \u001b[0mc_api_util\u001b[0m\u001b[1;33m.\u001b[0m\u001b[0mScopedTFImportGraphDefResults\u001b[0m\u001b[1;33m(\u001b[0m\u001b[0mresults\u001b[0m\u001b[1;33m)\u001b[0m\u001b[1;33m\u001b[0m\u001b[1;33m\u001b[0m\u001b[0m\n",
      "\u001b[1;31mInvalidArgumentError\u001b[0m: Value for attr 'T' of complex64 is not in the list of allowed values: float, double\n\t; NodeDef: {{node gradients/fusion/spectral_transform/Abs_grad/div_no_nan}}; Op<name=DivNoNan; signature=x:T, y:T -> z:T; attr=T:type,allowed=[DT_FLOAT, DT_DOUBLE]>",
      "\nDuring handling of the above exception, another exception occurred:\n",
      "\u001b[1;31mValueError\u001b[0m                                Traceback (most recent call last)",
      "\u001b[1;32m<ipython-input-7-309624af2cc9>\u001b[0m in \u001b[0;36m<module>\u001b[1;34m\u001b[0m\n\u001b[0;32m     10\u001b[0m         \u001b[0mcheckpoint\u001b[0m \u001b[1;33m=\u001b[0m \u001b[0mread_latest_checkpoint\u001b[0m\u001b[1;33m(\u001b[0m\u001b[0mlogdir\u001b[0m\u001b[1;33m,\u001b[0m \u001b[0mgdrive\u001b[0m\u001b[1;33m)\u001b[0m\u001b[1;33m\u001b[0m\u001b[1;33m\u001b[0m\u001b[0m\n\u001b[0;32m     11\u001b[0m     \u001b[0mmeta\u001b[0m \u001b[1;33m=\u001b[0m \u001b[0mcheckpoint\u001b[0m \u001b[1;33m+\u001b[0m \u001b[1;34m'.meta'\u001b[0m\u001b[1;33m\u001b[0m\u001b[1;33m\u001b[0m\u001b[0m\n\u001b[1;32m---> 12\u001b[1;33m     \u001b[0msaver\u001b[0m \u001b[1;33m=\u001b[0m \u001b[0mtf\u001b[0m\u001b[1;33m.\u001b[0m\u001b[0mtrain\u001b[0m\u001b[1;33m.\u001b[0m\u001b[0mimport_meta_graph\u001b[0m\u001b[1;33m(\u001b[0m\u001b[0mmeta\u001b[0m\u001b[1;33m)\u001b[0m\u001b[1;33m\u001b[0m\u001b[1;33m\u001b[0m\u001b[0m\n\u001b[0m\u001b[0;32m     13\u001b[0m     \u001b[0mg\u001b[0m \u001b[1;33m=\u001b[0m \u001b[0mtf\u001b[0m\u001b[1;33m.\u001b[0m\u001b[0mget_default_graph\u001b[0m\u001b[1;33m(\u001b[0m\u001b[1;33m)\u001b[0m\u001b[1;33m\u001b[0m\u001b[1;33m\u001b[0m\u001b[0m\n\u001b[0;32m     14\u001b[0m     \u001b[0msaver\u001b[0m\u001b[1;33m.\u001b[0m\u001b[0mrestore\u001b[0m\u001b[1;33m(\u001b[0m\u001b[0msess\u001b[0m\u001b[1;33m,\u001b[0m \u001b[0mcheckpoint\u001b[0m\u001b[1;33m)\u001b[0m\u001b[1;33m\u001b[0m\u001b[1;33m\u001b[0m\u001b[0m\n",
      "\u001b[1;32m~\\AppData\\Local\\Continuum\\anaconda3\\envs\\tesi\\lib\\site-packages\\tensorflow\\python\\training\\saver.py\u001b[0m in \u001b[0;36mimport_meta_graph\u001b[1;34m(meta_graph_or_file, clear_devices, import_scope, **kwargs)\u001b[0m\n\u001b[0;32m   1433\u001b[0m   \"\"\"  # pylint: disable=g-doc-exception\n\u001b[0;32m   1434\u001b[0m   return _import_meta_graph_with_return_elements(\n\u001b[1;32m-> 1435\u001b[1;33m       meta_graph_or_file, clear_devices, import_scope, **kwargs)[0]\n\u001b[0m\u001b[0;32m   1436\u001b[0m \u001b[1;33m\u001b[0m\u001b[0m\n\u001b[0;32m   1437\u001b[0m \u001b[1;33m\u001b[0m\u001b[0m\n",
      "\u001b[1;32m~\\AppData\\Local\\Continuum\\anaconda3\\envs\\tesi\\lib\\site-packages\\tensorflow\\python\\training\\saver.py\u001b[0m in \u001b[0;36m_import_meta_graph_with_return_elements\u001b[1;34m(meta_graph_or_file, clear_devices, import_scope, return_elements, **kwargs)\u001b[0m\n\u001b[0;32m   1455\u001b[0m           \u001b[0mimport_scope\u001b[0m\u001b[1;33m=\u001b[0m\u001b[0mimport_scope\u001b[0m\u001b[1;33m,\u001b[0m\u001b[1;33m\u001b[0m\u001b[1;33m\u001b[0m\u001b[0m\n\u001b[0;32m   1456\u001b[0m           \u001b[0mreturn_elements\u001b[0m\u001b[1;33m=\u001b[0m\u001b[0mreturn_elements\u001b[0m\u001b[1;33m,\u001b[0m\u001b[1;33m\u001b[0m\u001b[1;33m\u001b[0m\u001b[0m\n\u001b[1;32m-> 1457\u001b[1;33m           **kwargs))\n\u001b[0m\u001b[0;32m   1458\u001b[0m \u001b[1;33m\u001b[0m\u001b[0m\n\u001b[0;32m   1459\u001b[0m   saver = _create_saver_from_imported_meta_graph(\n",
      "\u001b[1;32m~\\AppData\\Local\\Continuum\\anaconda3\\envs\\tesi\\lib\\site-packages\\tensorflow\\python\\framework\\meta_graph.py\u001b[0m in \u001b[0;36mimport_scoped_meta_graph_with_return_elements\u001b[1;34m(meta_graph_or_file, clear_devices, graph, import_scope, input_map, unbound_inputs_col_name, restore_collections_predicate, return_elements)\u001b[0m\n\u001b[0;32m    804\u001b[0m         \u001b[0minput_map\u001b[0m\u001b[1;33m=\u001b[0m\u001b[0minput_map\u001b[0m\u001b[1;33m,\u001b[0m\u001b[1;33m\u001b[0m\u001b[1;33m\u001b[0m\u001b[0m\n\u001b[0;32m    805\u001b[0m         \u001b[0mproducer_op_list\u001b[0m\u001b[1;33m=\u001b[0m\u001b[0mproducer_op_list\u001b[0m\u001b[1;33m,\u001b[0m\u001b[1;33m\u001b[0m\u001b[1;33m\u001b[0m\u001b[0m\n\u001b[1;32m--> 806\u001b[1;33m         return_elements=return_elements)\n\u001b[0m\u001b[0;32m    807\u001b[0m \u001b[1;33m\u001b[0m\u001b[0m\n\u001b[0;32m    808\u001b[0m     \u001b[1;31m# Restores all the other collections.\u001b[0m\u001b[1;33m\u001b[0m\u001b[1;33m\u001b[0m\u001b[1;33m\u001b[0m\u001b[0m\n",
      "\u001b[1;32m~\\AppData\\Local\\Continuum\\anaconda3\\envs\\tesi\\lib\\site-packages\\tensorflow\\python\\util\\deprecation.py\u001b[0m in \u001b[0;36mnew_func\u001b[1;34m(*args, **kwargs)\u001b[0m\n\u001b[0;32m    505\u001b[0m                 \u001b[1;34m'in a future version'\u001b[0m \u001b[1;32mif\u001b[0m \u001b[0mdate\u001b[0m \u001b[1;32mis\u001b[0m \u001b[1;32mNone\u001b[0m \u001b[1;32melse\u001b[0m \u001b[1;33m(\u001b[0m\u001b[1;34m'after %s'\u001b[0m \u001b[1;33m%\u001b[0m \u001b[0mdate\u001b[0m\u001b[1;33m)\u001b[0m\u001b[1;33m,\u001b[0m\u001b[1;33m\u001b[0m\u001b[1;33m\u001b[0m\u001b[0m\n\u001b[0;32m    506\u001b[0m                 instructions)\n\u001b[1;32m--> 507\u001b[1;33m       \u001b[1;32mreturn\u001b[0m \u001b[0mfunc\u001b[0m\u001b[1;33m(\u001b[0m\u001b[1;33m*\u001b[0m\u001b[0margs\u001b[0m\u001b[1;33m,\u001b[0m \u001b[1;33m**\u001b[0m\u001b[0mkwargs\u001b[0m\u001b[1;33m)\u001b[0m\u001b[1;33m\u001b[0m\u001b[1;33m\u001b[0m\u001b[0m\n\u001b[0m\u001b[0;32m    508\u001b[0m \u001b[1;33m\u001b[0m\u001b[0m\n\u001b[0;32m    509\u001b[0m     doc = _add_deprecated_arg_notice_to_docstring(\n",
      "\u001b[1;32m~\\AppData\\Local\\Continuum\\anaconda3\\envs\\tesi\\lib\\site-packages\\tensorflow\\python\\framework\\importer.py\u001b[0m in \u001b[0;36mimport_graph_def\u001b[1;34m(graph_def, input_map, return_elements, name, op_dict, producer_op_list)\u001b[0m\n\u001b[0;32m    428\u001b[0m       \u001b[1;32mexcept\u001b[0m \u001b[0merrors\u001b[0m\u001b[1;33m.\u001b[0m\u001b[0mInvalidArgumentError\u001b[0m \u001b[1;32mas\u001b[0m \u001b[0me\u001b[0m\u001b[1;33m:\u001b[0m\u001b[1;33m\u001b[0m\u001b[1;33m\u001b[0m\u001b[0m\n\u001b[0;32m    429\u001b[0m         \u001b[1;31m# Convert to ValueError for backwards compatibility.\u001b[0m\u001b[1;33m\u001b[0m\u001b[1;33m\u001b[0m\u001b[1;33m\u001b[0m\u001b[0m\n\u001b[1;32m--> 430\u001b[1;33m         \u001b[1;32mraise\u001b[0m \u001b[0mValueError\u001b[0m\u001b[1;33m(\u001b[0m\u001b[0mstr\u001b[0m\u001b[1;33m(\u001b[0m\u001b[0me\u001b[0m\u001b[1;33m)\u001b[0m\u001b[1;33m)\u001b[0m\u001b[1;33m\u001b[0m\u001b[1;33m\u001b[0m\u001b[0m\n\u001b[0m\u001b[0;32m    431\u001b[0m \u001b[1;33m\u001b[0m\u001b[0m\n\u001b[0;32m    432\u001b[0m     \u001b[1;31m# Create _DefinedFunctions for any imported functions.\u001b[0m\u001b[1;33m\u001b[0m\u001b[1;33m\u001b[0m\u001b[1;33m\u001b[0m\u001b[0m\n",
      "\u001b[1;31mValueError\u001b[0m: Value for attr 'T' of complex64 is not in the list of allowed values: float, double\n\t; NodeDef: {{node gradients/fusion/spectral_transform/Abs_grad/div_no_nan}}; Op<name=DivNoNan; signature=x:T, y:T -> z:T; attr=T:type,allowed=[DT_FLOAT, DT_DOUBLE]>"
     ]
    }
   ],
   "source": [
    "logdir = get_logdir(data_path, opt_params, architecture_params)\n",
    "checkpoint_root = os.path.join(logdir, 'model.ckpt')\n",
    "gpu_options = tf.GPUOptions(allow_growth=True)\n",
    "sess = tf.Session(config=tf.ConfigProto(gpu_options=gpu_options, allow_soft_placement=True, log_device_placement=True))\n",
    "if os.path.isdir(logdir):\n",
    "    print('Model loading...')\n",
    "    if read_best_model:\n",
    "        checkpoint = os.path.join(logdir, 'best_model')\n",
    "    else: \n",
    "        checkpoint = read_latest_checkpoint(logdir, gdrive)\n",
    "    meta = checkpoint + '.meta'\n",
    "    saver = tf.train.import_meta_graph(meta)\n",
    "    g = tf.get_default_graph()\n",
    "    saver.restore(sess, checkpoint)\n",
    "    X_lr, Y, alpha = tf.get_collection('inputs')[0:3]\n",
    "    inputs = (X_lr, Y, alpha)\n",
    "    predictions = tf.get_collection('preds')[0]\n",
    "    with open(os.path.join(logdir, 'train_metrics.pickle'), 'rb') as handle:\n",
    "        train_metrics = pickle.load(handle)"
   ]
  },
  {
   "cell_type": "markdown",
   "metadata": {
    "id": "vvLJpAj-Q0UZ"
   },
   "source": [
    "### Weight variable analysis\n",
    "Quello rappresentato in figura è il peso associato alla magnitude della spectral net. In tfnet i valori si aggirano intorno allo 0.5 -> E' importante nella stima finale. In gionet intorno allo zero -> Pesa poco nella stima della magnitude finale, ed è un ramo che si dedica solo a quello in pratica. Perciò è come se in gionet la stima finale del segnale hr sia data soltanto dal ramo del dominio temporale."
   ]
  },
  {
   "cell_type": "code",
   "execution_count": null,
   "metadata": {
    "id": "GGeOrn8gRG25"
   },
   "outputs": [],
   "source": [
    "clamp =lambda x: (tf.tanh(x)+1)/2"
   ]
  },
  {
   "cell_type": "code",
   "execution_count": null,
   "metadata": {
    "id": "xdty8h9DIgp9"
   },
   "outputs": [],
   "source": [
    "all_vars = tf.global_variables()\n",
    "for i in all_vars:\n",
    "    if i.name == 'fusion/fusion_weights_unclamped:0':\n",
    "        var_uncl = i\n",
    "        break\n",
    "print(var_uncl.name)\n",
    "v0 = sess.run(var_uncl)\n",
    "weigths_values = np.squeeze(v0)\n",
    "weigths_values_clamped = sess.run(clamp(weigths_values)) \n",
    "sns.displot(weigths_values_clamped, kind=\"kde\")"
   ]
  },
  {
   "cell_type": "markdown",
   "metadata": {
    "id": "MkFFoY4qPkux"
   },
   "source": [
    "### Analisi del training "
   ]
  },
  {
   "cell_type": "code",
   "execution_count": null,
   "metadata": {
    "id": "m6dtgdih4K-6"
   },
   "outputs": [],
   "source": [
    "with open(os.path.join(logdir, 'train_metrics.pickle'), 'rb') as handle:\n",
    "        train_metrics = pickle.load(handle)"
   ]
  },
  {
   "cell_type": "code",
   "execution_count": null,
   "metadata": {
    "id": "PgXzqHzQ3JQL"
   },
   "outputs": [],
   "source": [
    "df = pd.DataFrame.from_dict(train_metrics, orient = 'index')#.reset_index().rename({'index':'epoch'}, axis = 1)"
   ]
  },
  {
   "cell_type": "code",
   "execution_count": null,
   "metadata": {
    "colab": {
     "base_uri": "https://localhost:8080/",
     "height": 1000
    },
    "executionInfo": {
     "elapsed": 1438,
     "status": "ok",
     "timestamp": 1613668430252,
     "user": {
      "displayName": "Giorgio Bini",
      "photoUrl": "https://lh3.googleusercontent.com/a-/AOh14GgJ7Iaq18IIOku9A5VZf1pMFRhT9LBW90kGCpzqsg=s64",
      "userId": "09218258456109657564"
     },
     "user_tz": -60
    },
    "id": "cVsjb3JIhZYg",
    "outputId": "c3946fc9-a829-443e-d02b-02643ad98787"
   },
   "outputs": [
    {
     "data": {
      "image/png": "[encoded data removed]",
      "text/plain": [
       "<Figure size 720x576 with 1 Axes>"
      ]
     },
     "metadata": {
      "needs_background": "light",
      "tags": []
     },
     "output_type": "display_data"
    },
    {
     "data": {
      "image/png": "[encoded data removed]",
      "text/plain": [
       "<Figure size 720x576 with 1 Axes>"
      ]
     },
     "metadata": {
      "tags": []
     },
     "output_type": "display_data"
    }
   ],
   "source": [
    "plt.figure(figsize=(10,8))\n",
    "plot_training_curves(df['l2_training'], df['l2_validation'])\n",
    "plt.figure(figsize=(10,8))\n",
    "plot_training_curves(df['snr_training'], df['snr_validation'], y_axis = 'snr')"
   ]
  },
  {
   "cell_type": "markdown",
   "metadata": {
    "id": "mYXIpjhi_PBp"
   },
   "source": [
    "### Calcolo metriche di errore"
   ]
  },
  {
   "cell_type": "code",
   "execution_count": null,
   "metadata": {
    "id": "D0HooDro4uvG"
   },
   "outputs": [],
   "source": [
    "def calc_snr_lsd(input_x, input_y, inputs, predictions, sess, alpha = 1, batch_size=128):\n",
    "    assert input_x.shape[0]%batch_size == 0\n",
    "    data = DataSet(input_x, input_y, epochs_completed = 0)\n",
    "    snr_on_batch = []\n",
    "    snr_on_batch_std = []\n",
    "    lsd_on_batch = []\n",
    "    lsd_on_batch_std = []\n",
    "    for i in tqdm(range(int(input_x.shape[0]/batch_size))): # 1 epoch\n",
    "        batch = data.next_batch(batch_size)\n",
    "        Y_batch = batch[1]\n",
    "        feed_dict_not_train = load_batch(inputs, batch, alpha, train=False)\n",
    "        result_tr = sess.run(predictions, feed_dict = feed_dict_not_train)\n",
    "        snr_mean, snr_std = calc_snr2(Y_batch, result_tr, return_std = True)\n",
    "        snr_on_batch.append(snr_mean)\n",
    "        snr_on_batch_std.append(snr_std)\n",
    "        lsd_list = [compute_log_distortion(np.squeeze(result_tr[i]), np.squeeze(Y_batch[i])) for i in range(result_tr.shape[0])]   \n",
    "        lsd_on_batch.append(np.mean(lsd_list))\n",
    "        lsd_on_batch_std.append(np.std(lsd_list))\n",
    "    return np.mean(snr_on_batch), np.mean(snr_on_batch_std), np.mean(lsd_on_batch), np.mean(lsd_on_batch_std) "
   ]
  },
  {
   "cell_type": "code",
   "execution_count": 7,
   "metadata": {
    "executionInfo": {
     "elapsed": 532,
     "status": "ok",
     "timestamp": 1613823170708,
     "user": {
      "displayName": "Giorgio Bini",
      "photoUrl": "https://lh3.googleusercontent.com/a-/AOh14GgJ7Iaq18IIOku9A5VZf1pMFRhT9LBW90kGCpzqsg=s64",
      "userId": "09218258456109657564"
     },
     "user_tz": -60
    },
    "id": "xUaHUTDfBoxL"
   },
   "outputs": [],
   "source": [
    "def calc_snr_lsd_spline(input_x, input_y, batch_size=128):\n",
    "    assert input_x.shape[0]%batch_size == 0\n",
    "    data = DataSet(input_x, input_y, epochs_completed = 0)\n",
    "    snr_on_batch = []\n",
    "    snr_on_batch_std = []\n",
    "    lsd_on_batch = []\n",
    "    lsd_on_batch_std = []\n",
    "    for i in tqdm(range(int(input_x.shape[0]/batch_size))): # 1 epoch\n",
    "        batch = data.next_batch(batch_size)\n",
    "        snr_mean, snr_std = calc_snr2(batch[1], batch[0], return_std = True)\n",
    "        snr_on_batch.append(snr_mean)\n",
    "        snr_on_batch_std.append(snr_std)\n",
    "        lsd_list = [compute_log_distortion(np.squeeze(batch[0][i]), np.squeeze(batch[1][i])) for i in range(batch[0].shape[0])]   \n",
    "        lsd_on_batch.append(np.mean(lsd_list))\n",
    "        lsd_on_batch_std.append(np.std(lsd_list))\n",
    "    return np.mean(snr_on_batch), np.mean(snr_on_batch_std), np.mean(lsd_on_batch), np.mean(lsd_on_batch_std) "
   ]
  },
  {
   "cell_type": "code",
   "execution_count": 8,
   "metadata": {
    "colab": {
     "base_uri": "https://localhost:8080/"
    },
    "executionInfo": {
     "elapsed": 5559,
     "status": "ok",
     "timestamp": 1613823175746,
     "user": {
      "displayName": "Giorgio Bini",
      "photoUrl": "https://lh3.googleusercontent.com/a-/AOh14GgJ7Iaq18IIOku9A5VZf1pMFRhT9LBW90kGCpzqsg=s64",
      "userId": "09218258456109657564"
     },
     "user_tz": -60
    },
    "id": "8sr8AK9WTSJ1",
    "outputId": "73b9a03c-f216-480f-b285-bd900c720751"
   },
   "outputs": [
    {
     "name": "stdout",
     "output_type": "stream",
     "text": [
      "CPU times: user 109 ms, sys: 380 ms, total: 489 ms\n",
      "Wall time: 4.96 s\n"
     ]
    }
   ],
   "source": [
    "%%time\n",
    "if multispeaker:\n",
    "    sample_training = True\n",
    "else:\n",
    "    sample_training = False\n",
    "X_train, Y_train, X_val, Y_val = read_data(data_path, sample_training = sample_training)\n",
    "n_train, n_validation = X_train.shape[0], X_val.shape[0]"
   ]
  },
  {
   "cell_type": "code",
   "execution_count": null,
   "metadata": {
    "colab": {
     "base_uri": "https://localhost:8080/",
     "height": 99,
     "referenced_widgets": [
      "22f5336598a24040b1b49b968cfe5d8a",
      "cf4162662ac0461c87899a054fd9951a",
      "044763b73354498eaa68ce6e83d8a50d",
      "27eb36cab7aa492e95c7a810f684eb97",
      "4aa5005883504d8f8a1f14d4b8596404",
      "84da29bbc059494a9c0771d9f29ff4f6",
      "6a72a94e6fea47728a10fc94c26beb32",
      "79bf103585874cb5a96ba9f571c50184"
     ]
    },
    "executionInfo": {
     "elapsed": 20697,
     "status": "ok",
     "timestamp": 1613227064578,
     "user": {
      "displayName": "Giorgio Bini",
      "photoUrl": "https://lh3.googleusercontent.com/a-/AOh14GgJ7Iaq18IIOku9A5VZf1pMFRhT9LBW90kGCpzqsg=s64",
      "userId": "09218258456109657564"
     },
     "user_tz": -60
    },
    "id": "NX8RaNVweZT6",
    "outputId": "47de16d8-4599-413c-e1d7-e7e770c35619"
   },
   "outputs": [
    {
     "data": {
      "application/vnd.jupyter.widget-view+json": {
       "model_id": "22f5336598a24040b1b49b968cfe5d8a",
       "version_major": 2,
       "version_minor": 0
      },
      "text/plain": [
       "HBox(children=(FloatProgress(value=0.0, max=6.0), HTML(value='')))"
      ]
     },
     "metadata": {
      "tags": []
     },
     "output_type": "display_data"
    },
    {
     "name": "stdout",
     "output_type": "stream",
     "text": [
      "\n",
      "CPU times: user 5.9 s, sys: 1.32 s, total: 7.22 s\n",
      "Wall time: 7.15 s\n"
     ]
    }
   ],
   "source": [
    "%%time\n",
    "val_snr_mean, val_snr_std, val_lsd_mean, val_lsd_std = calc_snr_lsd(X_val, Y_val, inputs, predictions, sess)"
   ]
  },
  {
   "cell_type": "code",
   "execution_count": null,
   "metadata": {
    "colab": {
     "base_uri": "https://localhost:8080/"
    },
    "executionInfo": {
     "elapsed": 19824,
     "status": "ok",
     "timestamp": 1613227064579,
     "user": {
      "displayName": "Giorgio Bini",
      "photoUrl": "https://lh3.googleusercontent.com/a-/AOh14GgJ7Iaq18IIOku9A5VZf1pMFRhT9LBW90kGCpzqsg=s64",
      "userId": "09218258456109657564"
     },
     "user_tz": -60
    },
    "id": "ulo2jFD51DPZ",
    "outputId": "09028a14-6634-45fd-8ece-1f2336bf51bb"
   },
   "outputs": [
    {
     "name": "stdout",
     "output_type": "stream",
     "text": [
      "17.100584\n",
      "3.565324\n",
      "3.4805171\n",
      "0.82669663\n"
     ]
    }
   ],
   "source": [
    "print(val_snr_mean)\n",
    "print(val_snr_std)\n",
    "print(val_lsd_mean)\n",
    "print(val_lsd_std)"
   ]
  },
  {
   "cell_type": "code",
   "execution_count": null,
   "metadata": {
    "colab": {
     "base_uri": "https://localhost:8080/",
     "height": 166,
     "referenced_widgets": [
      "bfab163b56214c95954755cc9945ceb2",
      "280705c6d02345f49be3c7293e6c0c19",
      "8391a803fc224d3ab43544a592a45377",
      "230b0545631347228c63644373930e67",
      "47f1fe61da324381ba579971e285dcd6",
      "d2d243678a23442d986ed96e584c9425",
      "11aff9745f134f99aa8ed2a85468e03d",
      "fc0baaa626a54addab500bd4593f4ea1"
     ]
    },
    "executionInfo": {
     "elapsed": 336164,
     "status": "ok",
     "timestamp": 1613818929903,
     "user": {
      "displayName": "Giorgio Bini",
      "photoUrl": "https://lh3.googleusercontent.com/a-/AOh14GgJ7Iaq18IIOku9A5VZf1pMFRhT9LBW90kGCpzqsg=s64",
      "userId": "09218258456109657564"
     },
     "user_tz": -60
    },
    "id": "hDMu_nupD_MK",
    "outputId": "7e2738ea-fde2-4ac5-e5ed-fc61f89f5026"
   },
   "outputs": [
    {
     "data": {
      "application/vnd.jupyter.widget-view+json": {
       "model_id": "bfab163b56214c95954755cc9945ceb2",
       "version_major": 2,
       "version_minor": 0
      },
      "text/plain": [
       "HBox(children=(FloatProgress(value=0.0, max=316.0), HTML(value='')))"
      ]
     },
     "metadata": {
      "tags": []
     },
     "output_type": "display_data"
    },
    {
     "name": "stdout",
     "output_type": "stream",
     "text": [
      "\n",
      "13.599438\n",
      "4.8045225\n",
      "5.9712973\n",
      "1.3759665\n",
      "CPU times: user 2min 6s, sys: 16 s, total: 2min 22s\n",
      "Wall time: 2min 22s\n"
     ]
    }
   ],
   "source": [
    "%%time\n",
    "val_snr_mean_spline, val_snr_std_spline, val_lsd_mean_spline, val_lsd_std_spline = calc_snr_lsd_spline(X_val, Y_val)\n",
    "print(val_snr_mean_spline)\n",
    "print(val_snr_std_spline)\n",
    "print(val_lsd_mean_spline)\n",
    "print(val_lsd_std_spline)"
   ]
  },
  {
   "cell_type": "code",
   "execution_count": null,
   "metadata": {
    "id": "NEUOv7Ht5Z_w"
   },
   "outputs": [],
   "source": [
    "del X_val\n",
    "del Y_val"
   ]
  },
  {
   "cell_type": "code",
   "execution_count": 9,
   "metadata": {
    "colab": {
     "base_uri": "https://localhost:8080/",
     "height": 99,
     "referenced_widgets": [
      "947914757c834d568673f677b4691868",
      "9135fbfcfede498b8b8da349d7f5acc4",
      "c7adcec628a84841be728b8ba6b7f9eb",
      "22b382b6151d4caf805f871bab160b96",
      "76449e7ec99b41f799d5e8a3f2a255ad",
      "31416e073b614819bd79fc04ae38bba4",
      "9053799632b74b26a4f10289e8098bb4",
      "373e1b07e00a42fb8fe17bcdebb9d61b"
     ]
    },
    "executionInfo": {
     "elapsed": 20937,
     "status": "ok",
     "timestamp": 1613823200794,
     "user": {
      "displayName": "Giorgio Bini",
      "photoUrl": "https://lh3.googleusercontent.com/a-/AOh14GgJ7Iaq18IIOku9A5VZf1pMFRhT9LBW90kGCpzqsg=s64",
      "userId": "09218258456109657564"
     },
     "user_tz": -60
    },
    "id": "pC5SVK3u5Nij",
    "outputId": "e90fdb41-b6d3-47a1-cb04-56e9771945e3"
   },
   "outputs": [
    {
     "data": {
      "application/vnd.jupyter.widget-view+json": {
       "model_id": "947914757c834d568673f677b4691868",
       "version_major": 2,
       "version_minor": 0
      },
      "text/plain": [
       "HBox(children=(FloatProgress(value=0.0, max=52.0), HTML(value='')))"
      ]
     },
     "metadata": {
      "tags": []
     },
     "output_type": "display_data"
    },
    {
     "name": "stdout",
     "output_type": "stream",
     "text": [
      "\n",
      "CPU times: user 20.3 s, sys: 304 ms, total: 20.6 s\n",
      "Wall time: 20.5 s\n"
     ]
    }
   ],
   "source": [
    "%%time\n",
    "train_snr_mean_spline, train_snr_std_spline, train_lsd_mean_spline, train_lsd_std_spline = calc_snr_lsd_spline(X_train, Y_train)"
   ]
  },
  {
   "cell_type": "code",
   "execution_count": 10,
   "metadata": {
    "colab": {
     "base_uri": "https://localhost:8080/"
    },
    "executionInfo": {
     "elapsed": 20284,
     "status": "ok",
     "timestamp": 1613823200794,
     "user": {
      "displayName": "Giorgio Bini",
      "photoUrl": "https://lh3.googleusercontent.com/a-/AOh14GgJ7Iaq18IIOku9A5VZf1pMFRhT9LBW90kGCpzqsg=s64",
      "userId": "09218258456109657564"
     },
     "user_tz": -60
    },
    "id": "FTZHeNVX3eZG",
    "outputId": "7e2e8603-da89-4ef5-8ae6-14ef21574417"
   },
   "outputs": [
    {
     "name": "stdout",
     "output_type": "stream",
     "text": [
      "14.744431\n",
      "4.424209\n",
      "5.640473\n",
      "1.8516519\n"
     ]
    }
   ],
   "source": [
    "print(train_snr_mean_spline)\n",
    "print(train_snr_std_spline) \n",
    "print(train_lsd_mean_spline)\n",
    "print(train_lsd_std_spline)"
   ]
  },
  {
   "cell_type": "code",
   "execution_count": null,
   "metadata": {
    "id": "ivBd9HnCbvv8"
   },
   "outputs": [],
   "source": [
    "del X_train\n",
    "del Y_train"
   ]
  },
  {
   "cell_type": "code",
   "execution_count": null,
   "metadata": {
    "colab": {
     "base_uri": "https://localhost:8080/",
     "height": 132,
     "referenced_widgets": [
      "c2189293132a4ccf82f96b5f053dbdfd",
      "5b99cffaea994667bff0371d2dd99136",
      "d3e87cb1621a4ed4901bfbec5a19da7d",
      "e63953e137464da8ad65d6469960cf19",
      "c296aa372763418695bb9c4dd75c4c62",
      "0ac4d491e6c2476ea133e2b069aa483a",
      "b518746bcbe3408c9115abe7c6baa2a3",
      "6c49ba8425334b2cb9eb6e5faba71714"
     ]
    },
    "executionInfo": {
     "elapsed": 327413,
     "status": "ok",
     "timestamp": 1613820051601,
     "user": {
      "displayName": "Giorgio Bini",
      "photoUrl": "https://lh3.googleusercontent.com/a-/AOh14GgJ7Iaq18IIOku9A5VZf1pMFRhT9LBW90kGCpzqsg=s64",
      "userId": "09218258456109657564"
     },
     "user_tz": -60
    },
    "id": "CvYf7qhPF94x",
    "outputId": "f521a1df-bfc2-4b5a-c532-c9d0eac60cc5"
   },
   "outputs": [
    {
     "data": {
      "application/vnd.jupyter.widget-view+json": {
       "model_id": "c2189293132a4ccf82f96b5f053dbdfd",
       "version_major": 2,
       "version_minor": 0
      },
      "text/plain": [
       "HBox(children=(FloatProgress(value=0.0, max=614.0), HTML(value='')))"
      ]
     },
     "metadata": {
      "tags": []
     },
     "output_type": "display_data"
    },
    {
     "name": "stdout",
     "output_type": "stream",
     "text": [
      "\n",
      "14.064825\n",
      "4.312431\n",
      "5.63571530543207\n",
      "1.4059294249449432\n"
     ]
    }
   ],
   "source": [
    "hf = h5py.File(data_path + 'test_data.hdf5', 'r')\n",
    "X_test, Y_test = np.array(hf.get('data_lr')), np.array(hf.get('label'))\n",
    "test_snr_mean_spline, test_snr_std_spline, test_lsd_mean_spline, test_lsd_std_spline = calc_snr_lsd_spline(X_test, Y_test)\n",
    "print(test_snr_mean_spline)\n",
    "print(test_snr_std_spline)\n",
    "print(test_lsd_mean_spline)\n",
    "print(test_lsd_std_spline)"
   ]
  },
  {
   "cell_type": "code",
   "execution_count": null,
   "metadata": {
    "id": "e4_LSsjwFhG9"
   },
   "outputs": [],
   "source": [
    "%%time\n",
    "train_snr_mean, train_snr_std, train_lsd_mean, train_lsd_std = calc_snr_lsd(X_train, Y_train, inputs, predictions, sess)\n",
    "print(train_snr_mean)\n",
    "print(train_snr_std) \n",
    "print(train_lsd_mean)\n",
    "print(train_lsd_std)"
   ]
  },
  {
   "cell_type": "code",
   "execution_count": null,
   "metadata": {
    "colab": {
     "base_uri": "https://localhost:8080/"
    },
    "executionInfo": {
     "elapsed": 62060,
     "status": "ok",
     "timestamp": 1613227111786,
     "user": {
      "displayName": "Giorgio Bini",
      "photoUrl": "https://lh3.googleusercontent.com/a-/AOh14GgJ7Iaq18IIOku9A5VZf1pMFRhT9LBW90kGCpzqsg=s64",
      "userId": "09218258456109657564"
     },
     "user_tz": -60
    },
    "id": "_aH-8OKsbe3Z",
    "outputId": "98dbe47b-8471-4c51-d8fc-4d0be1aabd61"
   },
   "outputs": [
    {
     "name": "stdout",
     "output_type": "stream",
     "text": [
      "CPU times: user 6 µs, sys: 1e+03 ns, total: 7 µs\n",
      "Wall time: 10.3 µs\n"
     ]
    }
   ],
   "source": [
    "%%time\n",
    "if multispeaker:\n",
    "    hf = h5py.File(data_path + 'test_data.hdf5', 'r')\n",
    "    X_test, Y_test = np.array(hf.get('data_lr')), np.array(hf.get('label'))\n",
    "    test_snr_mean, test_snr_std, test_lsd_mean, test_lsd_std = calc_snr_lsd(X_test, Y_test, inputs, predictions, sess)\n",
    "    print(test_snr_mean)\n",
    "    print(test_snr_std)\n",
    "    print(test_lsd_mean)\n",
    "    print(test_lsd_std)\n",
    "    del X_test\n",
    "    del Y_test\n",
    "else:\n",
    "    test_snr_mean, test_snr_std, test_lsd_mean, test_lsd_std = val_snr_mean, val_snr_std, val_lsd_mean, val_lsd_std\n",
    "    val_snr_mean, val_snr_std, val_lsd_mean, val_lsd_std = None, None, None, None"
   ]
  },
  {
   "cell_type": "code",
   "execution_count": null,
   "metadata": {
    "colab": {
     "base_uri": "https://localhost:8080/"
    },
    "executionInfo": {
     "elapsed": 60866,
     "status": "ok",
     "timestamp": 1613227111786,
     "user": {
      "displayName": "Giorgio Bini",
      "photoUrl": "https://lh3.googleusercontent.com/a-/AOh14GgJ7Iaq18IIOku9A5VZf1pMFRhT9LBW90kGCpzqsg=s64",
      "userId": "09218258456109657564"
     },
     "user_tz": -60
    },
    "id": "xZzkjniWXiIX",
    "outputId": "26ec7e58-b54f-4990-accb-7334a443c2de"
   },
   "outputs": [
    {
     "name": "stdout",
     "output_type": "stream",
     "text": [
      "DataFrame is successfully saved!\n"
     ]
    }
   ],
   "source": [
    "df_results = df_from_results(train_snr = train_snr_mean,\n",
    "                train_snr_std = train_snr_std,\n",
    "                val_snr = val_snr_mean,\n",
    "                val_snr_std = val_snr_std,\n",
    "                test_snr = test_snr_mean,\n",
    "                test_snr_std = test_snr_std,\n",
    "                train_lsd = train_lsd_mean,\n",
    "                train_lsd_std = train_lsd_std,\n",
    "                val_lsd = val_lsd_mean,\n",
    "                val_lsd_std = val_lsd_std, \n",
    "                test_lsd = test_lsd_mean,\n",
    "                test_lsd_std = test_lsd_std,\n",
    "                savepath = logdir) #if you insert save path dataframe will be saved!"
   ]
  },
  {
   "cell_type": "code",
   "execution_count": null,
   "metadata": {
    "colab": {
     "base_uri": "https://localhost:8080/",
     "height": 137
    },
    "executionInfo": {
     "elapsed": 913,
     "status": "ok",
     "timestamp": 1613227112714,
     "user": {
      "displayName": "Giorgio Bini",
      "photoUrl": "https://lh3.googleusercontent.com/a-/AOh14GgJ7Iaq18IIOku9A5VZf1pMFRhT9LBW90kGCpzqsg=s64",
      "userId": "09218258456109657564"
     },
     "user_tz": -60
    },
    "id": "h922SV7o1J86",
    "outputId": "0c72b69a-13fe-45f9-ae60-bd2e6ba1c843"
   },
   "outputs": [
    {
     "data": {
      "text/html": [
       "<div>\n",
       "<style scoped>\n",
       "    .dataframe tbody tr th:only-of-type {\n",
       "        vertical-align: middle;\n",
       "    }\n",
       "\n",
       "    .dataframe tbody tr th {\n",
       "        vertical-align: top;\n",
       "    }\n",
       "\n",
       "    .dataframe thead th {\n",
       "        text-align: right;\n",
       "    }\n",
       "</style>\n",
       "<table border=\"1\" class=\"dataframe\">\n",
       "  <thead>\n",
       "    <tr style=\"text-align: right;\">\n",
       "      <th></th>\n",
       "      <th>snr_mean</th>\n",
       "      <th>snr_std</th>\n",
       "      <th>lsd_mean</th>\n",
       "      <th>lsd_std</th>\n",
       "    </tr>\n",
       "  </thead>\n",
       "  <tbody>\n",
       "    <tr>\n",
       "      <th>train</th>\n",
       "      <td>16.014538</td>\n",
       "      <td>4.979925</td>\n",
       "      <td>3.642848</td>\n",
       "      <td>0.878964</td>\n",
       "    </tr>\n",
       "    <tr>\n",
       "      <th>val</th>\n",
       "      <td>NaN</td>\n",
       "      <td>NaN</td>\n",
       "      <td>NaN</td>\n",
       "      <td>NaN</td>\n",
       "    </tr>\n",
       "    <tr>\n",
       "      <th>test</th>\n",
       "      <td>17.100584</td>\n",
       "      <td>3.565324</td>\n",
       "      <td>3.480517</td>\n",
       "      <td>0.826697</td>\n",
       "    </tr>\n",
       "  </tbody>\n",
       "</table>\n",
       "</div>"
      ],
      "text/plain": [
       "        snr_mean   snr_std  lsd_mean   lsd_std\n",
       "train  16.014538  4.979925  3.642848  0.878964\n",
       "val          NaN       NaN       NaN       NaN\n",
       "test   17.100584  3.565324  3.480517  0.826697"
      ]
     },
     "execution_count": 46,
     "metadata": {
      "tags": []
     },
     "output_type": "execute_result"
    }
   ],
   "source": [
    "df_results"
   ]
  },
  {
   "cell_type": "markdown",
   "metadata": {
    "id": "mpO2KCdRPmdg"
   },
   "source": [
    "### Risultati speech-to-text"
   ]
  },
  {
   "cell_type": "code",
   "execution_count": null,
   "metadata": {
    "id": "sAiTlI12PrHP"
   },
   "outputs": [],
   "source": [
    "path_deepspeech_model = os.path.join(ROOT_DIR, 'processedData', 'speech_to_text_models')\n",
    "model = get_deepspeech_model(path_deepspeech_model)\n",
    "data_path = os.path.join(ROOT_DIR, 'rawData', 'VCTK-Corpus', 'wav48')\n",
    "file_list = []\n",
    "if multispeaker:\n",
    "    txt_file = os.path.join(ROOT_DIR, 'processedData', 'txtfiles', 'test-speakers.txt')\n",
    "    id_list = from_txt_to_list(txt_file)\n",
    "    for speaker_id in id_list:\n",
    "        data_dir = os.path.join(data_path, speaker_id)\n",
    "        real_txt_dir = os.path.join(ROOT_DIR, 'rawData', 'VCTK-Corpus', 'txt', speaker_id)\n",
    "        for file_ in os.listdir(data_dir):\n",
    "            filename = file_.strip()\n",
    "            real = os.path.splitext(filename)[0] + '.txt'\n",
    "            file_list.append((os.path.join(data_dir, filename), os.path.join(real_txt_dir, real)))\n",
    "else:\n",
    "    txt_file = os.path.join(ROOT_DIR, 'processedData', 'txtfiles', 'speaker1-val-files.txt')\n",
    "    data_dir = os.path.join(data_path, 'p225')\n",
    "    real_txt_dir = os.path.join(ROOT_DIR, 'rawData', 'VCTK-Corpus', 'txt', 'p225')\n",
    "    for file_ in from_txt_to_list(txt_file):\n",
    "        filename = file_.strip()\n",
    "        real = os.path.splitext(filename)[0] + '.txt'\n",
    "        file_list.append((os.path.join(data_dir, filename), os.path.join(real_txt_dir, real)))"
   ]
  },
  {
   "cell_type": "code",
   "execution_count": null,
   "metadata": {
    "colab": {
     "base_uri": "https://localhost:8080/",
     "height": 116,
     "referenced_widgets": [
      "2580b138792b44b2afd0862c1e0cdb14",
      "5a04bdb0c2864b648723fd180ba34168",
      "217bb143b7744744821a12f4a76dbf0e",
      "4a77d803a3364c79bfa285559f69506f",
      "23be288789034351ac468721c568d61c",
      "24926689f58845f49e16db716706f70f",
      "85f06c18123c41f4a05af645fc374205",
      "db529f6983ea4f7c9dedc5ac5d8e1fbb"
     ]
    },
    "executionInfo": {
     "elapsed": 320698,
     "status": "ok",
     "timestamp": 1613816417864,
     "user": {
      "displayName": "Giorgio Bini",
      "photoUrl": "https://lh3.googleusercontent.com/a-/AOh14GgJ7Iaq18IIOku9A5VZf1pMFRhT9LBW90kGCpzqsg=s64",
      "userId": "09218258456109657564"
     },
     "user_tz": -60
    },
    "id": "FGxRzvxX-5Vk",
    "outputId": "c9109b6c-7dc2-498e-a707-e03e2c3eda84"
   },
   "outputs": [
    {
     "data": {
      "application/vnd.jupyter.widget-view+json": {
       "model_id": "2580b138792b44b2afd0862c1e0cdb14",
       "version_major": 2,
       "version_minor": 0
      },
      "text/plain": [
       "HBox(children=(FloatProgress(value=0.0, max=32.0), HTML(value='')))"
      ]
     },
     "metadata": {
      "tags": []
     },
     "output_type": "display_data"
    },
    {
     "name": "stdout",
     "output_type": "stream",
     "text": [
      "\n",
      "DataFrame of speech to text results is successfully saved!\n",
      "CPU times: user 4min 44s, sys: 5.02 s, total: 4min 49s\n",
      "Wall time: 5min 20s\n"
     ]
    }
   ],
   "source": [
    "%%time\n",
    "temporary_file_dir = os.path.join(ROOT_DIR, 'processedData', 'temp_files')\n",
    "fs = 16000\n",
    "assert fs == model.sampleRate()\n",
    "results = {}\n",
    "for f in tqdm(file_list):\n",
    "    try:\n",
    "        audio_file_path = f[0]\n",
    "        real_txt_transcription_path = f[1]\n",
    "        real_txt_transcription = from_txt_to_list(real_txt_transcription_path)[0]\n",
    "        sig, rate = librosa.load(audio_file_path, sr=fs, mono=False)\n",
    "        sig = pre_process_signal(sig)\n",
    "        f1 = ModelOnSingleFile(sig, rate, architecture_params['r'], sess, inputs, predictions, interp = True)\n",
    "        sf.write(os.path.join(temporary_file_dir, 'low_res.wav'), f1.low_res(), rate)\n",
    "        sf.write(os.path.join(temporary_file_dir, 'high_res.wav'), f1.get_model_hr(), rate)\n",
    "        sf.write(os.path.join(temporary_file_dir, 'original_res.wav'), f1.original_version(), rate)\n",
    "\n",
    "        original_file_trascription = get_txt(os.path.join(temporary_file_dir, 'original_res.wav'), model, fs, gdrive)\n",
    "        low_res_file_trascription = get_txt(os.path.join(temporary_file_dir, 'low_res.wav'), model, fs, gdrive)\n",
    "        model_hr_file_trascription = get_txt(os.path.join(temporary_file_dir, 'high_res.wav'), model, fs, gdrive)\n",
    "\n",
    "        wer_original = calc_wer(real_txt_transcription, original_file_trascription)\n",
    "        wer_low_res = calc_wer(real_txt_transcription, low_res_file_trascription)\n",
    "        wer_model_hr = calc_wer(real_txt_transcription, model_hr_file_trascription)\n",
    "\n",
    "        results[len(results.keys())] = {'wer_original': wer_original, \n",
    "                                    'wer_low_res': wer_low_res,\n",
    "                                    'wer_model_hr': wer_model_hr}\n",
    "    except:\n",
    "        pass\n",
    "\n",
    "df_results_stt = df_from_results_stt(results, savepath = logdir)\n",
    "#clean_temp_directory(temporary_file_dir)"
   ]
  },
  {
   "cell_type": "code",
   "execution_count": null,
   "metadata": {
    "colab": {
     "base_uri": "https://localhost:8080/",
     "height": 107
    },
    "executionInfo": {
     "elapsed": 316382,
     "status": "ok",
     "timestamp": 1613816417866,
     "user": {
      "displayName": "Giorgio Bini",
      "photoUrl": "https://lh3.googleusercontent.com/a-/AOh14GgJ7Iaq18IIOku9A5VZf1pMFRhT9LBW90kGCpzqsg=s64",
      "userId": "09218258456109657564"
     },
     "user_tz": -60
    },
    "id": "m7oePhJy8qYJ",
    "outputId": "d9884d42-3d56-4438-fef5-b245dea9fdd1"
   },
   "outputs": [
    {
     "data": {
      "text/html": [
       "<div>\n",
       "<style scoped>\n",
       "    .dataframe tbody tr th:only-of-type {\n",
       "        vertical-align: middle;\n",
       "    }\n",
       "\n",
       "    .dataframe tbody tr th {\n",
       "        vertical-align: top;\n",
       "    }\n",
       "\n",
       "    .dataframe thead th {\n",
       "        text-align: right;\n",
       "    }\n",
       "</style>\n",
       "<table border=\"1\" class=\"dataframe\">\n",
       "  <thead>\n",
       "    <tr style=\"text-align: right;\">\n",
       "      <th></th>\n",
       "      <th>wer_original</th>\n",
       "      <th>wer_low_res</th>\n",
       "      <th>wer_model_hr</th>\n",
       "    </tr>\n",
       "  </thead>\n",
       "  <tbody>\n",
       "    <tr>\n",
       "      <th>mean</th>\n",
       "      <td>0.033668</td>\n",
       "      <td>0.51927</td>\n",
       "      <td>0.441257</td>\n",
       "    </tr>\n",
       "    <tr>\n",
       "      <th>std</th>\n",
       "      <td>0.056555</td>\n",
       "      <td>0.22091</td>\n",
       "      <td>0.230352</td>\n",
       "    </tr>\n",
       "  </tbody>\n",
       "</table>\n",
       "</div>"
      ],
      "text/plain": [
       "      wer_original  wer_low_res  wer_model_hr\n",
       "mean      0.033668      0.51927      0.441257\n",
       "std       0.056555      0.22091      0.230352"
      ]
     },
     "execution_count": 9,
     "metadata": {
      "tags": []
     },
     "output_type": "execute_result"
    }
   ],
   "source": [
    "df_results_stt"
   ]
  }
 ],
 "metadata": {
  "accelerator": "GPU",
  "colab": {
   "collapsed_sections": [],
   "machine_shape": "hm",
   "name": "Evaluation.ipynb",
   "provenance": []
  },
  "kernelspec": {
   "display_name": "Python 3",
   "language": "python",
   "name": "python3"
  },
  "language_info": {
   "codemirror_mode": {
    "name": "ipython",
    "version": 3
   },
   "file_extension": ".py",
   "mimetype": "text/x-python",
   "name": "python",
   "nbconvert_exporter": "python",
   "pygments_lexer": "ipython3",
   "version": "3.7.3"
  },
  "widgets": {
   "application/vnd.jupyter.widget-state+json": {
    "044763b73354498eaa68ce6e83d8a50d": {
     "model_module": "@jupyter-widgets/controls",
     "model_name": "HTMLModel",
     "state": {
      "_dom_classes": [],
      "_model_module": "@jupyter-widgets/controls",
      "_model_module_version": "1.5.0",
      "_model_name": "HTMLModel",
      "_view_count": null,
      "_view_module": "@jupyter-widgets/controls",
      "_view_module_version": "1.5.0",
      "_view_name": "HTMLView",
      "description": "",
      "description_tooltip": null,
      "layout": "IPY_MODEL_6a72a94e6fea47728a10fc94c26beb32",
      "placeholder": "​",
      "style": "IPY_MODEL_79bf103585874cb5a96ba9f571c50184",
      "value": " 6/6 [00:08&lt;00:00,  1.36s/it]"
     }
    },
    "0ac4d491e6c2476ea133e2b069aa483a": {
     "model_module": "@jupyter-widgets/base",
     "model_name": "LayoutModel",
     "state": {
      "_model_module": "@jupyter-widgets/base",
      "_model_module_version": "1.2.0",
      "_model_name": "LayoutModel",
      "_view_count": null,
      "_view_module": "@jupyter-widgets/base",
      "_view_module_version": "1.2.0",
      "_view_name": "LayoutView",
      "align_content": null,
      "align_items": null,
      "align_self": null,
      "border": null,
      "bottom": null,
      "display": null,
      "flex": null,
      "flex_flow": null,
      "grid_area": null,
      "grid_auto_columns": null,
      "grid_auto_flow": null,
      "grid_auto_rows": null,
      "grid_column": null,
      "grid_gap": null,
      "grid_row": null,
      "grid_template_areas": null,
      "grid_template_columns": null,
      "grid_template_rows": null,
      "height": null,
      "justify_content": null,
      "justify_items": null,
      "left": null,
      "margin": null,
      "max_height": null,
      "max_width": null,
      "min_height": null,
      "min_width": null,
      "object_fit": null,
      "object_position": null,
      "order": null,
      "overflow": null,
      "overflow_x": null,
      "overflow_y": null,
      "padding": null,
      "right": null,
      "top": null,
      "visibility": null,
      "width": null
     }
    },
    "11aff9745f134f99aa8ed2a85468e03d": {
     "model_module": "@jupyter-widgets/controls",
     "model_name": "DescriptionStyleModel",
     "state": {
      "_model_module": "@jupyter-widgets/controls",
      "_model_module_version": "1.5.0",
      "_model_name": "DescriptionStyleModel",
      "_view_count": null,
      "_view_module": "@jupyter-widgets/base",
      "_view_module_version": "1.2.0",
      "_view_name": "StyleView",
      "description_width": ""
     }
    },
    "217bb143b7744744821a12f4a76dbf0e": {
     "model_module": "@jupyter-widgets/controls",
     "model_name": "FloatProgressModel",
     "state": {
      "_dom_classes": [],
      "_model_module": "@jupyter-widgets/controls",
      "_model_module_version": "1.5.0",
      "_model_name": "FloatProgressModel",
      "_view_count": null,
      "_view_module": "@jupyter-widgets/controls",
      "_view_module_version": "1.5.0",
      "_view_name": "ProgressView",
      "bar_style": "success",
      "description": "100%",
      "description_tooltip": null,
      "layout": "IPY_MODEL_24926689f58845f49e16db716706f70f",
      "max": 32,
      "min": 0,
      "orientation": "horizontal",
      "style": "IPY_MODEL_23be288789034351ac468721c568d61c",
      "value": 32
     }
    },
    "22b382b6151d4caf805f871bab160b96": {
     "model_module": "@jupyter-widgets/controls",
     "model_name": "HTMLModel",
     "state": {
      "_dom_classes": [],
      "_model_module": "@jupyter-widgets/controls",
      "_model_module_version": "1.5.0",
      "_model_name": "HTMLModel",
      "_view_count": null,
      "_view_module": "@jupyter-widgets/controls",
      "_view_module_version": "1.5.0",
      "_view_name": "HTMLView",
      "description": "",
      "description_tooltip": null,
      "layout": "IPY_MODEL_373e1b07e00a42fb8fe17bcdebb9d61b",
      "placeholder": "​",
      "style": "IPY_MODEL_9053799632b74b26a4f10289e8098bb4",
      "value": " 52/52 [00:20&lt;00:00,  2.53it/s]"
     }
    },
    "22f5336598a24040b1b49b968cfe5d8a": {
     "model_module": "@jupyter-widgets/controls",
     "model_name": "HBoxModel",
     "state": {
      "_dom_classes": [],
      "_model_module": "@jupyter-widgets/controls",
      "_model_module_version": "1.5.0",
      "_model_name": "HBoxModel",
      "_view_count": null,
      "_view_module": "@jupyter-widgets/controls",
      "_view_module_version": "1.5.0",
      "_view_name": "HBoxView",
      "box_style": "",
      "children": [
       "IPY_MODEL_cf4162662ac0461c87899a054fd9951a",
       "IPY_MODEL_044763b73354498eaa68ce6e83d8a50d"
      ],
      "layout": "IPY_MODEL_27eb36cab7aa492e95c7a810f684eb97"
     }
    },
    "230b0545631347228c63644373930e67": {
     "model_module": "@jupyter-widgets/controls",
     "model_name": "HTMLModel",
     "state": {
      "_dom_classes": [],
      "_model_module": "@jupyter-widgets/controls",
      "_model_module_version": "1.5.0",
      "_model_name": "HTMLModel",
      "_view_count": null,
      "_view_module": "@jupyter-widgets/controls",
      "_view_module_version": "1.5.0",
      "_view_name": "HTMLView",
      "description": "",
      "description_tooltip": null,
      "layout": "IPY_MODEL_fc0baaa626a54addab500bd4593f4ea1",
      "placeholder": "​",
      "style": "IPY_MODEL_11aff9745f134f99aa8ed2a85468e03d",
      "value": " 316/316 [09:15&lt;00:00,  1.76s/it]"
     }
    },
    "23be288789034351ac468721c568d61c": {
     "model_module": "@jupyter-widgets/controls",
     "model_name": "ProgressStyleModel",
     "state": {
      "_model_module": "@jupyter-widgets/controls",
      "_model_module_version": "1.5.0",
      "_model_name": "ProgressStyleModel",
      "_view_count": null,
      "_view_module": "@jupyter-widgets/base",
      "_view_module_version": "1.2.0",
      "_view_name": "StyleView",
      "bar_color": null,
      "description_width": "initial"
     }
    },
    "24926689f58845f49e16db716706f70f": {
     "model_module": "@jupyter-widgets/base",
     "model_name": "LayoutModel",
     "state": {
      "_model_module": "@jupyter-widgets/base",
      "_model_module_version": "1.2.0",
      "_model_name": "LayoutModel",
      "_view_count": null,
      "_view_module": "@jupyter-widgets/base",
      "_view_module_version": "1.2.0",
      "_view_name": "LayoutView",
      "align_content": null,
      "align_items": null,
      "align_self": null,
      "border": null,
      "bottom": null,
      "display": null,
      "flex": null,
      "flex_flow": null,
      "grid_area": null,
      "grid_auto_columns": null,
      "grid_auto_flow": null,
      "grid_auto_rows": null,
      "grid_column": null,
      "grid_gap": null,
      "grid_row": null,
      "grid_template_areas": null,
      "grid_template_columns": null,
      "grid_template_rows": null,
      "height": null,
      "justify_content": null,
      "justify_items": null,
      "left": null,
      "margin": null,
      "max_height": null,
      "max_width": null,
      "min_height": null,
      "min_width": null,
      "object_fit": null,
      "object_position": null,
      "order": null,
      "overflow": null,
      "overflow_x": null,
      "overflow_y": null,
      "padding": null,
      "right": null,
      "top": null,
      "visibility": null,
      "width": null
     }
    },
    "2580b138792b44b2afd0862c1e0cdb14": {
     "model_module": "@jupyter-widgets/controls",
     "model_name": "HBoxModel",
     "state": {
      "_dom_classes": [],
      "_model_module": "@jupyter-widgets/controls",
      "_model_module_version": "1.5.0",
      "_model_name": "HBoxModel",
      "_view_count": null,
      "_view_module": "@jupyter-widgets/controls",
      "_view_module_version": "1.5.0",
      "_view_name": "HBoxView",
      "box_style": "",
      "children": [
       "IPY_MODEL_217bb143b7744744821a12f4a76dbf0e",
       "IPY_MODEL_4a77d803a3364c79bfa285559f69506f"
      ],
      "layout": "IPY_MODEL_5a04bdb0c2864b648723fd180ba34168"
     }
    },
    "27eb36cab7aa492e95c7a810f684eb97": {
     "model_module": "@jupyter-widgets/base",
     "model_name": "LayoutModel",
     "state": {
      "_model_module": "@jupyter-widgets/base",
      "_model_module_version": "1.2.0",
      "_model_name": "LayoutModel",
      "_view_count": null,
      "_view_module": "@jupyter-widgets/base",
      "_view_module_version": "1.2.0",
      "_view_name": "LayoutView",
      "align_content": null,
      "align_items": null,
      "align_self": null,
      "border": null,
      "bottom": null,
      "display": null,
      "flex": null,
      "flex_flow": null,
      "grid_area": null,
      "grid_auto_columns": null,
      "grid_auto_flow": null,
      "grid_auto_rows": null,
      "grid_column": null,
      "grid_gap": null,
      "grid_row": null,
      "grid_template_areas": null,
      "grid_template_columns": null,
      "grid_template_rows": null,
      "height": null,
      "justify_content": null,
      "justify_items": null,
      "left": null,
      "margin": null,
      "max_height": null,
      "max_width": null,
      "min_height": null,
      "min_width": null,
      "object_fit": null,
      "object_position": null,
      "order": null,
      "overflow": null,
      "overflow_x": null,
      "overflow_y": null,
      "padding": null,
      "right": null,
      "top": null,
      "visibility": null,
      "width": null
     }
    },
    "280705c6d02345f49be3c7293e6c0c19": {
     "model_module": "@jupyter-widgets/base",
     "model_name": "LayoutModel",
     "state": {
      "_model_module": "@jupyter-widgets/base",
      "_model_module_version": "1.2.0",
      "_model_name": "LayoutModel",
      "_view_count": null,
      "_view_module": "@jupyter-widgets/base",
      "_view_module_version": "1.2.0",
      "_view_name": "LayoutView",
      "align_content": null,
      "align_items": null,
      "align_self": null,
      "border": null,
      "bottom": null,
      "display": null,
      "flex": null,
      "flex_flow": null,
      "grid_area": null,
      "grid_auto_columns": null,
      "grid_auto_flow": null,
      "grid_auto_rows": null,
      "grid_column": null,
      "grid_gap": null,
      "grid_row": null,
      "grid_template_areas": null,
      "grid_template_columns": null,
      "grid_template_rows": null,
      "height": null,
      "justify_content": null,
      "justify_items": null,
      "left": null,
      "margin": null,
      "max_height": null,
      "max_width": null,
      "min_height": null,
      "min_width": null,
      "object_fit": null,
      "object_position": null,
      "order": null,
      "overflow": null,
      "overflow_x": null,
      "overflow_y": null,
      "padding": null,
      "right": null,
      "top": null,
      "visibility": null,
      "width": null
     }
    },
    "31416e073b614819bd79fc04ae38bba4": {
     "model_module": "@jupyter-widgets/base",
     "model_name": "LayoutModel",
     "state": {
      "_model_module": "@jupyter-widgets/base",
      "_model_module_version": "1.2.0",
      "_model_name": "LayoutModel",
      "_view_count": null,
      "_view_module": "@jupyter-widgets/base",
      "_view_module_version": "1.2.0",
      "_view_name": "LayoutView",
      "align_content": null,
      "align_items": null,
      "align_self": null,
      "border": null,
      "bottom": null,
      "display": null,
      "flex": null,
      "flex_flow": null,
      "grid_area": null,
      "grid_auto_columns": null,
      "grid_auto_flow": null,
      "grid_auto_rows": null,
      "grid_column": null,
      "grid_gap": null,
      "grid_row": null,
      "grid_template_areas": null,
      "grid_template_columns": null,
      "grid_template_rows": null,
      "height": null,
      "justify_content": null,
      "justify_items": null,
      "left": null,
      "margin": null,
      "max_height": null,
      "max_width": null,
      "min_height": null,
      "min_width": null,
      "object_fit": null,
      "object_position": null,
      "order": null,
      "overflow": null,
      "overflow_x": null,
      "overflow_y": null,
      "padding": null,
      "right": null,
      "top": null,
      "visibility": null,
      "width": null
     }
    },
    "373e1b07e00a42fb8fe17bcdebb9d61b": {
     "model_module": "@jupyter-widgets/base",
     "model_name": "LayoutModel",
     "state": {
      "_model_module": "@jupyter-widgets/base",
      "_model_module_version": "1.2.0",
      "_model_name": "LayoutModel",
      "_view_count": null,
      "_view_module": "@jupyter-widgets/base",
      "_view_module_version": "1.2.0",
      "_view_name": "LayoutView",
      "align_content": null,
      "align_items": null,
      "align_self": null,
      "border": null,
      "bottom": null,
      "display": null,
      "flex": null,
      "flex_flow": null,
      "grid_area": null,
      "grid_auto_columns": null,
      "grid_auto_flow": null,
      "grid_auto_rows": null,
      "grid_column": null,
      "grid_gap": null,
      "grid_row": null,
      "grid_template_areas": null,
      "grid_template_columns": null,
      "grid_template_rows": null,
      "height": null,
      "justify_content": null,
      "justify_items": null,
      "left": null,
      "margin": null,
      "max_height": null,
      "max_width": null,
      "min_height": null,
      "min_width": null,
      "object_fit": null,
      "object_position": null,
      "order": null,
      "overflow": null,
      "overflow_x": null,
      "overflow_y": null,
      "padding": null,
      "right": null,
      "top": null,
      "visibility": null,
      "width": null
     }
    },
    "47f1fe61da324381ba579971e285dcd6": {
     "model_module": "@jupyter-widgets/controls",
     "model_name": "ProgressStyleModel",
     "state": {
      "_model_module": "@jupyter-widgets/controls",
      "_model_module_version": "1.5.0",
      "_model_name": "ProgressStyleModel",
      "_view_count": null,
      "_view_module": "@jupyter-widgets/base",
      "_view_module_version": "1.2.0",
      "_view_name": "StyleView",
      "bar_color": null,
      "description_width": "initial"
     }
    },
    "4a77d803a3364c79bfa285559f69506f": {
     "model_module": "@jupyter-widgets/controls",
     "model_name": "HTMLModel",
     "state": {
      "_dom_classes": [],
      "_model_module": "@jupyter-widgets/controls",
      "_model_module_version": "1.5.0",
      "_model_name": "HTMLModel",
      "_view_count": null,
      "_view_module": "@jupyter-widgets/controls",
      "_view_module_version": "1.5.0",
      "_view_name": "HTMLView",
      "description": "",
      "description_tooltip": null,
      "layout": "IPY_MODEL_db529f6983ea4f7c9dedc5ac5d8e1fbb",
      "placeholder": "​",
      "style": "IPY_MODEL_85f06c18123c41f4a05af645fc374205",
      "value": " 32/32 [36:44&lt;00:00, 68.88s/it]"
     }
    },
    "4aa5005883504d8f8a1f14d4b8596404": {
     "model_module": "@jupyter-widgets/base",
     "model_name": "LayoutModel",
     "state": {
      "_model_module": "@jupyter-widgets/base",
      "_model_module_version": "1.2.0",
      "_model_name": "LayoutModel",
      "_view_count": null,
      "_view_module": "@jupyter-widgets/base",
      "_view_module_version": "1.2.0",
      "_view_name": "LayoutView",
      "align_content": null,
      "align_items": null,
      "align_self": null,
      "border": null,
      "bottom": null,
      "display": null,
      "flex": null,
      "flex_flow": null,
      "grid_area": null,
      "grid_auto_columns": null,
      "grid_auto_flow": null,
      "grid_auto_rows": null,
      "grid_column": null,
      "grid_gap": null,
      "grid_row": null,
      "grid_template_areas": null,
      "grid_template_columns": null,
      "grid_template_rows": null,
      "height": null,
      "justify_content": null,
      "justify_items": null,
      "left": null,
      "margin": null,
      "max_height": null,
      "max_width": null,
      "min_height": null,
      "min_width": null,
      "object_fit": null,
      "object_position": null,
      "order": null,
      "overflow": null,
      "overflow_x": null,
      "overflow_y": null,
      "padding": null,
      "right": null,
      "top": null,
      "visibility": null,
      "width": null
     }
    },
    "5a04bdb0c2864b648723fd180ba34168": {
     "model_module": "@jupyter-widgets/base",
     "model_name": "LayoutModel",
     "state": {
      "_model_module": "@jupyter-widgets/base",
      "_model_module_version": "1.2.0",
      "_model_name": "LayoutModel",
      "_view_count": null,
      "_view_module": "@jupyter-widgets/base",
      "_view_module_version": "1.2.0",
      "_view_name": "LayoutView",
      "align_content": null,
      "align_items": null,
      "align_self": null,
      "border": null,
      "bottom": null,
      "display": null,
      "flex": null,
      "flex_flow": null,
      "grid_area": null,
      "grid_auto_columns": null,
      "grid_auto_flow": null,
      "grid_auto_rows": null,
      "grid_column": null,
      "grid_gap": null,
      "grid_row": null,
      "grid_template_areas": null,
      "grid_template_columns": null,
      "grid_template_rows": null,
      "height": null,
      "justify_content": null,
      "justify_items": null,
      "left": null,
      "margin": null,
      "max_height": null,
      "max_width": null,
      "min_height": null,
      "min_width": null,
      "object_fit": null,
      "object_position": null,
      "order": null,
      "overflow": null,
      "overflow_x": null,
      "overflow_y": null,
      "padding": null,
      "right": null,
      "top": null,
      "visibility": null,
      "width": null
     }
    },
    "5b99cffaea994667bff0371d2dd99136": {
     "model_module": "@jupyter-widgets/base",
     "model_name": "LayoutModel",
     "state": {
      "_model_module": "@jupyter-widgets/base",
      "_model_module_version": "1.2.0",
      "_model_name": "LayoutModel",
      "_view_count": null,
      "_view_module": "@jupyter-widgets/base",
      "_view_module_version": "1.2.0",
      "_view_name": "LayoutView",
      "align_content": null,
      "align_items": null,
      "align_self": null,
      "border": null,
      "bottom": null,
      "display": null,
      "flex": null,
      "flex_flow": null,
      "grid_area": null,
      "grid_auto_columns": null,
      "grid_auto_flow": null,
      "grid_auto_rows": null,
      "grid_column": null,
      "grid_gap": null,
      "grid_row": null,
      "grid_template_areas": null,
      "grid_template_columns": null,
      "grid_template_rows": null,
      "height": null,
      "justify_content": null,
      "justify_items": null,
      "left": null,
      "margin": null,
      "max_height": null,
      "max_width": null,
      "min_height": null,
      "min_width": null,
      "object_fit": null,
      "object_position": null,
      "order": null,
      "overflow": null,
      "overflow_x": null,
      "overflow_y": null,
      "padding": null,
      "right": null,
      "top": null,
      "visibility": null,
      "width": null
     }
    },
    "6a72a94e6fea47728a10fc94c26beb32": {
     "model_module": "@jupyter-widgets/base",
     "model_name": "LayoutModel",
     "state": {
      "_model_module": "@jupyter-widgets/base",
      "_model_module_version": "1.2.0",
      "_model_name": "LayoutModel",
      "_view_count": null,
      "_view_module": "@jupyter-widgets/base",
      "_view_module_version": "1.2.0",
      "_view_name": "LayoutView",
      "align_content": null,
      "align_items": null,
      "align_self": null,
      "border": null,
      "bottom": null,
      "display": null,
      "flex": null,
      "flex_flow": null,
      "grid_area": null,
      "grid_auto_columns": null,
      "grid_auto_flow": null,
      "grid_auto_rows": null,
      "grid_column": null,
      "grid_gap": null,
      "grid_row": null,
      "grid_template_areas": null,
      "grid_template_columns": null,
      "grid_template_rows": null,
      "height": null,
      "justify_content": null,
      "justify_items": null,
      "left": null,
      "margin": null,
      "max_height": null,
      "max_width": null,
      "min_height": null,
      "min_width": null,
      "object_fit": null,
      "object_position": null,
      "order": null,
      "overflow": null,
      "overflow_x": null,
      "overflow_y": null,
      "padding": null,
      "right": null,
      "top": null,
      "visibility": null,
      "width": null
     }
    },
    "6c49ba8425334b2cb9eb6e5faba71714": {
     "model_module": "@jupyter-widgets/base",
     "model_name": "LayoutModel",
     "state": {
      "_model_module": "@jupyter-widgets/base",
      "_model_module_version": "1.2.0",
      "_model_name": "LayoutModel",
      "_view_count": null,
      "_view_module": "@jupyter-widgets/base",
      "_view_module_version": "1.2.0",
      "_view_name": "LayoutView",
      "align_content": null,
      "align_items": null,
      "align_self": null,
      "border": null,
      "bottom": null,
      "display": null,
      "flex": null,
      "flex_flow": null,
      "grid_area": null,
      "grid_auto_columns": null,
      "grid_auto_flow": null,
      "grid_auto_rows": null,
      "grid_column": null,
      "grid_gap": null,
      "grid_row": null,
      "grid_template_areas": null,
      "grid_template_columns": null,
      "grid_template_rows": null,
      "height": null,
      "justify_content": null,
      "justify_items": null,
      "left": null,
      "margin": null,
      "max_height": null,
      "max_width": null,
      "min_height": null,
      "min_width": null,
      "object_fit": null,
      "object_position": null,
      "order": null,
      "overflow": null,
      "overflow_x": null,
      "overflow_y": null,
      "padding": null,
      "right": null,
      "top": null,
      "visibility": null,
      "width": null
     }
    },
    "76449e7ec99b41f799d5e8a3f2a255ad": {
     "model_module": "@jupyter-widgets/controls",
     "model_name": "ProgressStyleModel",
     "state": {
      "_model_module": "@jupyter-widgets/controls",
      "_model_module_version": "1.5.0",
      "_model_name": "ProgressStyleModel",
      "_view_count": null,
      "_view_module": "@jupyter-widgets/base",
      "_view_module_version": "1.2.0",
      "_view_name": "StyleView",
      "bar_color": null,
      "description_width": "initial"
     }
    },
    "79bf103585874cb5a96ba9f571c50184": {
     "model_module": "@jupyter-widgets/controls",
     "model_name": "DescriptionStyleModel",
     "state": {
      "_model_module": "@jupyter-widgets/controls",
      "_model_module_version": "1.5.0",
      "_model_name": "DescriptionStyleModel",
      "_view_count": null,
      "_view_module": "@jupyter-widgets/base",
      "_view_module_version": "1.2.0",
      "_view_name": "StyleView",
      "description_width": ""
     }
    },
    "8391a803fc224d3ab43544a592a45377": {
     "model_module": "@jupyter-widgets/controls",
     "model_name": "FloatProgressModel",
     "state": {
      "_dom_classes": [],
      "_model_module": "@jupyter-widgets/controls",
      "_model_module_version": "1.5.0",
      "_model_name": "FloatProgressModel",
      "_view_count": null,
      "_view_module": "@jupyter-widgets/controls",
      "_view_module_version": "1.5.0",
      "_view_name": "ProgressView",
      "bar_style": "success",
      "description": "100%",
      "description_tooltip": null,
      "layout": "IPY_MODEL_d2d243678a23442d986ed96e584c9425",
      "max": 316,
      "min": 0,
      "orientation": "horizontal",
      "style": "IPY_MODEL_47f1fe61da324381ba579971e285dcd6",
      "value": 316
     }
    },
    "84da29bbc059494a9c0771d9f29ff4f6": {
     "model_module": "@jupyter-widgets/controls",
     "model_name": "ProgressStyleModel",
     "state": {
      "_model_module": "@jupyter-widgets/controls",
      "_model_module_version": "1.5.0",
      "_model_name": "ProgressStyleModel",
      "_view_count": null,
      "_view_module": "@jupyter-widgets/base",
      "_view_module_version": "1.2.0",
      "_view_name": "StyleView",
      "bar_color": null,
      "description_width": "initial"
     }
    },
    "85f06c18123c41f4a05af645fc374205": {
     "model_module": "@jupyter-widgets/controls",
     "model_name": "DescriptionStyleModel",
     "state": {
      "_model_module": "@jupyter-widgets/controls",
      "_model_module_version": "1.5.0",
      "_model_name": "DescriptionStyleModel",
      "_view_count": null,
      "_view_module": "@jupyter-widgets/base",
      "_view_module_version": "1.2.0",
      "_view_name": "StyleView",
      "description_width": ""
     }
    },
    "9053799632b74b26a4f10289e8098bb4": {
     "model_module": "@jupyter-widgets/controls",
     "model_name": "DescriptionStyleModel",
     "state": {
      "_model_module": "@jupyter-widgets/controls",
      "_model_module_version": "1.5.0",
      "_model_name": "DescriptionStyleModel",
      "_view_count": null,
      "_view_module": "@jupyter-widgets/base",
      "_view_module_version": "1.2.0",
      "_view_name": "StyleView",
      "description_width": ""
     }
    },
    "9135fbfcfede498b8b8da349d7f5acc4": {
     "model_module": "@jupyter-widgets/base",
     "model_name": "LayoutModel",
     "state": {
      "_model_module": "@jupyter-widgets/base",
      "_model_module_version": "1.2.0",
      "_model_name": "LayoutModel",
      "_view_count": null,
      "_view_module": "@jupyter-widgets/base",
      "_view_module_version": "1.2.0",
      "_view_name": "LayoutView",
      "align_content": null,
      "align_items": null,
      "align_self": null,
      "border": null,
      "bottom": null,
      "display": null,
      "flex": null,
      "flex_flow": null,
      "grid_area": null,
      "grid_auto_columns": null,
      "grid_auto_flow": null,
      "grid_auto_rows": null,
      "grid_column": null,
      "grid_gap": null,
      "grid_row": null,
      "grid_template_areas": null,
      "grid_template_columns": null,
      "grid_template_rows": null,
      "height": null,
      "justify_content": null,
      "justify_items": null,
      "left": null,
      "margin": null,
      "max_height": null,
      "max_width": null,
      "min_height": null,
      "min_width": null,
      "object_fit": null,
      "object_position": null,
      "order": null,
      "overflow": null,
      "overflow_x": null,
      "overflow_y": null,
      "padding": null,
      "right": null,
      "top": null,
      "visibility": null,
      "width": null
     }
    },
    "947914757c834d568673f677b4691868": {
     "model_module": "@jupyter-widgets/controls",
     "model_name": "HBoxModel",
     "state": {
      "_dom_classes": [],
      "_model_module": "@jupyter-widgets/controls",
      "_model_module_version": "1.5.0",
      "_model_name": "HBoxModel",
      "_view_count": null,
      "_view_module": "@jupyter-widgets/controls",
      "_view_module_version": "1.5.0",
      "_view_name": "HBoxView",
      "box_style": "",
      "children": [
       "IPY_MODEL_c7adcec628a84841be728b8ba6b7f9eb",
       "IPY_MODEL_22b382b6151d4caf805f871bab160b96"
      ],
      "layout": "IPY_MODEL_9135fbfcfede498b8b8da349d7f5acc4"
     }
    },
    "b518746bcbe3408c9115abe7c6baa2a3": {
     "model_module": "@jupyter-widgets/controls",
     "model_name": "DescriptionStyleModel",
     "state": {
      "_model_module": "@jupyter-widgets/controls",
      "_model_module_version": "1.5.0",
      "_model_name": "DescriptionStyleModel",
      "_view_count": null,
      "_view_module": "@jupyter-widgets/base",
      "_view_module_version": "1.2.0",
      "_view_name": "StyleView",
      "description_width": ""
     }
    },
    "bfab163b56214c95954755cc9945ceb2": {
     "model_module": "@jupyter-widgets/controls",
     "model_name": "HBoxModel",
     "state": {
      "_dom_classes": [],
      "_model_module": "@jupyter-widgets/controls",
      "_model_module_version": "1.5.0",
      "_model_name": "HBoxModel",
      "_view_count": null,
      "_view_module": "@jupyter-widgets/controls",
      "_view_module_version": "1.5.0",
      "_view_name": "HBoxView",
      "box_style": "",
      "children": [
       "IPY_MODEL_8391a803fc224d3ab43544a592a45377",
       "IPY_MODEL_230b0545631347228c63644373930e67"
      ],
      "layout": "IPY_MODEL_280705c6d02345f49be3c7293e6c0c19"
     }
    },
    "c2189293132a4ccf82f96b5f053dbdfd": {
     "model_module": "@jupyter-widgets/controls",
     "model_name": "HBoxModel",
     "state": {
      "_dom_classes": [],
      "_model_module": "@jupyter-widgets/controls",
      "_model_module_version": "1.5.0",
      "_model_name": "HBoxModel",
      "_view_count": null,
      "_view_module": "@jupyter-widgets/controls",
      "_view_module_version": "1.5.0",
      "_view_name": "HBoxView",
      "box_style": "",
      "children": [
       "IPY_MODEL_d3e87cb1621a4ed4901bfbec5a19da7d",
       "IPY_MODEL_e63953e137464da8ad65d6469960cf19"
      ],
      "layout": "IPY_MODEL_5b99cffaea994667bff0371d2dd99136"
     }
    },
    "c296aa372763418695bb9c4dd75c4c62": {
     "model_module": "@jupyter-widgets/controls",
     "model_name": "ProgressStyleModel",
     "state": {
      "_model_module": "@jupyter-widgets/controls",
      "_model_module_version": "1.5.0",
      "_model_name": "ProgressStyleModel",
      "_view_count": null,
      "_view_module": "@jupyter-widgets/base",
      "_view_module_version": "1.2.0",
      "_view_name": "StyleView",
      "bar_color": null,
      "description_width": "initial"
     }
    },
    "c7adcec628a84841be728b8ba6b7f9eb": {
     "model_module": "@jupyter-widgets/controls",
     "model_name": "FloatProgressModel",
     "state": {
      "_dom_classes": [],
      "_model_module": "@jupyter-widgets/controls",
      "_model_module_version": "1.5.0",
      "_model_name": "FloatProgressModel",
      "_view_count": null,
      "_view_module": "@jupyter-widgets/controls",
      "_view_module_version": "1.5.0",
      "_view_name": "ProgressView",
      "bar_style": "success",
      "description": "100%",
      "description_tooltip": null,
      "layout": "IPY_MODEL_31416e073b614819bd79fc04ae38bba4",
      "max": 52,
      "min": 0,
      "orientation": "horizontal",
      "style": "IPY_MODEL_76449e7ec99b41f799d5e8a3f2a255ad",
      "value": 52
     }
    },
    "cf4162662ac0461c87899a054fd9951a": {
     "model_module": "@jupyter-widgets/controls",
     "model_name": "FloatProgressModel",
     "state": {
      "_dom_classes": [],
      "_model_module": "@jupyter-widgets/controls",
      "_model_module_version": "1.5.0",
      "_model_name": "FloatProgressModel",
      "_view_count": null,
      "_view_module": "@jupyter-widgets/controls",
      "_view_module_version": "1.5.0",
      "_view_name": "ProgressView",
      "bar_style": "success",
      "description": "100%",
      "description_tooltip": null,
      "layout": "IPY_MODEL_4aa5005883504d8f8a1f14d4b8596404",
      "max": 6,
      "min": 0,
      "orientation": "horizontal",
      "style": "IPY_MODEL_84da29bbc059494a9c0771d9f29ff4f6",
      "value": 6
     }
    },
    "d2d243678a23442d986ed96e584c9425": {
     "model_module": "@jupyter-widgets/base",
     "model_name": "LayoutModel",
     "state": {
      "_model_module": "@jupyter-widgets/base",
      "_model_module_version": "1.2.0",
      "_model_name": "LayoutModel",
      "_view_count": null,
      "_view_module": "@jupyter-widgets/base",
      "_view_module_version": "1.2.0",
      "_view_name": "LayoutView",
      "align_content": null,
      "align_items": null,
      "align_self": null,
      "border": null,
      "bottom": null,
      "display": null,
      "flex": null,
      "flex_flow": null,
      "grid_area": null,
      "grid_auto_columns": null,
      "grid_auto_flow": null,
      "grid_auto_rows": null,
      "grid_column": null,
      "grid_gap": null,
      "grid_row": null,
      "grid_template_areas": null,
      "grid_template_columns": null,
      "grid_template_rows": null,
      "height": null,
      "justify_content": null,
      "justify_items": null,
      "left": null,
      "margin": null,
      "max_height": null,
      "max_width": null,
      "min_height": null,
      "min_width": null,
      "object_fit": null,
      "object_position": null,
      "order": null,
      "overflow": null,
      "overflow_x": null,
      "overflow_y": null,
      "padding": null,
      "right": null,
      "top": null,
      "visibility": null,
      "width": null
     }
    },
    "d3e87cb1621a4ed4901bfbec5a19da7d": {
     "model_module": "@jupyter-widgets/controls",
     "model_name": "FloatProgressModel",
     "state": {
      "_dom_classes": [],
      "_model_module": "@jupyter-widgets/controls",
      "_model_module_version": "1.5.0",
      "_model_name": "FloatProgressModel",
      "_view_count": null,
      "_view_module": "@jupyter-widgets/controls",
      "_view_module_version": "1.5.0",
      "_view_name": "ProgressView",
      "bar_style": "success",
      "description": "100%",
      "description_tooltip": null,
      "layout": "IPY_MODEL_0ac4d491e6c2476ea133e2b069aa483a",
      "max": 614,
      "min": 0,
      "orientation": "horizontal",
      "style": "IPY_MODEL_c296aa372763418695bb9c4dd75c4c62",
      "value": 614
     }
    },
    "db529f6983ea4f7c9dedc5ac5d8e1fbb": {
     "model_module": "@jupyter-widgets/base",
     "model_name": "LayoutModel",
     "state": {
      "_model_module": "@jupyter-widgets/base",
      "_model_module_version": "1.2.0",
      "_model_name": "LayoutModel",
      "_view_count": null,
      "_view_module": "@jupyter-widgets/base",
      "_view_module_version": "1.2.0",
      "_view_name": "LayoutView",
      "align_content": null,
      "align_items": null,
      "align_self": null,
      "border": null,
      "bottom": null,
      "display": null,
      "flex": null,
      "flex_flow": null,
      "grid_area": null,
      "grid_auto_columns": null,
      "grid_auto_flow": null,
      "grid_auto_rows": null,
      "grid_column": null,
      "grid_gap": null,
      "grid_row": null,
      "grid_template_areas": null,
      "grid_template_columns": null,
      "grid_template_rows": null,
      "height": null,
      "justify_content": null,
      "justify_items": null,
      "left": null,
      "margin": null,
      "max_height": null,
      "max_width": null,
      "min_height": null,
      "min_width": null,
      "object_fit": null,
      "object_position": null,
      "order": null,
      "overflow": null,
      "overflow_x": null,
      "overflow_y": null,
      "padding": null,
      "right": null,
      "top": null,
      "visibility": null,
      "width": null
     }
    },
    "e63953e137464da8ad65d6469960cf19": {
     "model_module": "@jupyter-widgets/controls",
     "model_name": "HTMLModel",
     "state": {
      "_dom_classes": [],
      "_model_module": "@jupyter-widgets/controls",
      "_model_module_version": "1.5.0",
      "_model_name": "HTMLModel",
      "_view_count": null,
      "_view_module": "@jupyter-widgets/controls",
      "_view_module_version": "1.5.0",
      "_view_name": "HTMLView",
      "description": "",
      "description_tooltip": null,
      "layout": "IPY_MODEL_6c49ba8425334b2cb9eb6e5faba71714",
      "placeholder": "​",
      "style": "IPY_MODEL_b518746bcbe3408c9115abe7c6baa2a3",
      "value": " 614/614 [04:59&lt;00:00,  2.05it/s]"
     }
    },
    "fc0baaa626a54addab500bd4593f4ea1": {
     "model_module": "@jupyter-widgets/base",
     "model_name": "LayoutModel",
     "state": {
      "_model_module": "@jupyter-widgets/base",
      "_model_module_version": "1.2.0",
      "_model_name": "LayoutModel",
      "_view_count": null,
      "_view_module": "@jupyter-widgets/base",
      "_view_module_version": "1.2.0",
      "_view_name": "LayoutView",
      "align_content": null,
      "align_items": null,
      "align_self": null,
      "border": null,
      "bottom": null,
      "display": null,
      "flex": null,
      "flex_flow": null,
      "grid_area": null,
      "grid_auto_columns": null,
      "grid_auto_flow": null,
      "grid_auto_rows": null,
      "grid_column": null,
      "grid_gap": null,
      "grid_row": null,
      "grid_template_areas": null,
      "grid_template_columns": null,
      "grid_template_rows": null,
      "height": null,
      "justify_content": null,
      "justify_items": null,
      "left": null,
      "margin": null,
      "max_height": null,
      "max_width": null,
      "min_height": null,
      "min_width": null,
      "object_fit": null,
      "object_position": null,
      "order": null,
      "overflow": null,
      "overflow_x": null,
      "overflow_y": null,
      "padding": null,
      "right": null,
      "top": null,
      "visibility": null,
      "width": null
     }
    }
   }
  }
 },
 "nbformat": 4,
 "nbformat_minor": 1
}
